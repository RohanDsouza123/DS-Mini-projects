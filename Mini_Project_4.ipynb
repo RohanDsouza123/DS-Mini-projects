{
 "cells": [
  {
   "cell_type": "markdown",
   "id": "52a8ac64-0bb1-438b-9d4e-2cab82d88281",
   "metadata": {},
   "source": [
    "# <U>**Mini Project 4**</U>"
   ]
  },
  {
   "cell_type": "markdown",
   "id": "23ec86c6-163b-4f20-bc4c-344de78558aa",
   "metadata": {},
   "source": [
    " ## Exploratory Data Analysis (EDA)"
   ]
  },
  {
   "cell_type": "code",
   "execution_count": 1,
   "id": "e5dcf2ed-cfd3-483c-86f1-4e6ab2926f6a",
   "metadata": {},
   "outputs": [
    {
     "data": {
      "text/html": [
       "<div>\n",
       "<style scoped>\n",
       "    .dataframe tbody tr th:only-of-type {\n",
       "        vertical-align: middle;\n",
       "    }\n",
       "\n",
       "    .dataframe tbody tr th {\n",
       "        vertical-align: top;\n",
       "    }\n",
       "\n",
       "    .dataframe thead th {\n",
       "        text-align: right;\n",
       "    }\n",
       "</style>\n",
       "<table border=\"1\" class=\"dataframe\">\n",
       "  <thead>\n",
       "    <tr style=\"text-align: right;\">\n",
       "      <th></th>\n",
       "      <th>customer_name</th>\n",
       "      <th>order_date</th>\n",
       "      <th>sales</th>\n",
       "      <th>quantity_ordered</th>\n",
       "      <th>returned?</th>\n",
       "      <th>high_value_order</th>\n",
       "      <th>year</th>\n",
       "      <th>month</th>\n",
       "      <th>unit_price</th>\n",
       "      <th>quantity_size</th>\n",
       "      <th>returned_flag</th>\n",
       "      <th>day_of_week</th>\n",
       "      <th>is_weekend</th>\n",
       "      <th>sales_range</th>\n",
       "      <th>cumulative_sales</th>\n",
       "      <th>order_id</th>\n",
       "    </tr>\n",
       "  </thead>\n",
       "  <tbody>\n",
       "    <tr>\n",
       "      <th>0</th>\n",
       "      <td>Alice</td>\n",
       "      <td>2023-01-15</td>\n",
       "      <td>1000.000000</td>\n",
       "      <td>2.0</td>\n",
       "      <td>Yes</td>\n",
       "      <td>True</td>\n",
       "      <td>2023.0</td>\n",
       "      <td>January</td>\n",
       "      <td>500.000000</td>\n",
       "      <td>Medium</td>\n",
       "      <td>1</td>\n",
       "      <td>Sunday</td>\n",
       "      <td>True</td>\n",
       "      <td>High</td>\n",
       "      <td>1000.000000</td>\n",
       "      <td>ORD0001</td>\n",
       "    </tr>\n",
       "    <tr>\n",
       "      <th>1</th>\n",
       "      <td>Bob</td>\n",
       "      <td>NaN</td>\n",
       "      <td>850.000000</td>\n",
       "      <td>3.0</td>\n",
       "      <td>No</td>\n",
       "      <td>True</td>\n",
       "      <td>NaN</td>\n",
       "      <td>NaN</td>\n",
       "      <td>283.333333</td>\n",
       "      <td>Medium</td>\n",
       "      <td>0</td>\n",
       "      <td>NaN</td>\n",
       "      <td>False</td>\n",
       "      <td>High</td>\n",
       "      <td>1850.000000</td>\n",
       "      <td>ORD0002</td>\n",
       "    </tr>\n",
       "    <tr>\n",
       "      <th>2</th>\n",
       "      <td>alice</td>\n",
       "      <td>NaN</td>\n",
       "      <td>592.857143</td>\n",
       "      <td>1.0</td>\n",
       "      <td>Yes</td>\n",
       "      <td>True</td>\n",
       "      <td>NaN</td>\n",
       "      <td>NaN</td>\n",
       "      <td>592.857143</td>\n",
       "      <td>Low</td>\n",
       "      <td>1</td>\n",
       "      <td>NaN</td>\n",
       "      <td>False</td>\n",
       "      <td>Medium</td>\n",
       "      <td>2442.857143</td>\n",
       "      <td>ORD0003</td>\n",
       "    </tr>\n",
       "    <tr>\n",
       "      <th>3</th>\n",
       "      <td>Charlie</td>\n",
       "      <td>NaN</td>\n",
       "      <td>550.000000</td>\n",
       "      <td>1.0</td>\n",
       "      <td>Yes</td>\n",
       "      <td>True</td>\n",
       "      <td>NaN</td>\n",
       "      <td>NaN</td>\n",
       "      <td>550.000000</td>\n",
       "      <td>Low</td>\n",
       "      <td>1</td>\n",
       "      <td>NaN</td>\n",
       "      <td>False</td>\n",
       "      <td>Medium</td>\n",
       "      <td>2992.857143</td>\n",
       "      <td>ORD0004</td>\n",
       "    </tr>\n",
       "    <tr>\n",
       "      <th>4</th>\n",
       "      <td>David</td>\n",
       "      <td>NaN</td>\n",
       "      <td>900.000000</td>\n",
       "      <td>4.0</td>\n",
       "      <td>No</td>\n",
       "      <td>True</td>\n",
       "      <td>NaN</td>\n",
       "      <td>NaN</td>\n",
       "      <td>225.000000</td>\n",
       "      <td>High</td>\n",
       "      <td>0</td>\n",
       "      <td>NaN</td>\n",
       "      <td>False</td>\n",
       "      <td>High</td>\n",
       "      <td>3892.857143</td>\n",
       "      <td>ORD0005</td>\n",
       "    </tr>\n",
       "  </tbody>\n",
       "</table>\n",
       "</div>"
      ],
      "text/plain": [
       "  customer_name  order_date        sales  quantity_ordered returned?  \\\n",
       "0         Alice  2023-01-15  1000.000000               2.0       Yes   \n",
       "1           Bob         NaN   850.000000               3.0        No   \n",
       "2         alice         NaN   592.857143               1.0       Yes   \n",
       "3       Charlie         NaN   550.000000               1.0       Yes   \n",
       "4         David         NaN   900.000000               4.0        No   \n",
       "\n",
       "   high_value_order    year    month  unit_price quantity_size  returned_flag  \\\n",
       "0              True  2023.0  January  500.000000        Medium              1   \n",
       "1              True     NaN      NaN  283.333333        Medium              0   \n",
       "2              True     NaN      NaN  592.857143           Low              1   \n",
       "3              True     NaN      NaN  550.000000           Low              1   \n",
       "4              True     NaN      NaN  225.000000          High              0   \n",
       "\n",
       "  day_of_week  is_weekend sales_range  cumulative_sales order_id  \n",
       "0      Sunday        True        High       1000.000000  ORD0001  \n",
       "1         NaN       False        High       1850.000000  ORD0002  \n",
       "2         NaN       False      Medium       2442.857143  ORD0003  \n",
       "3         NaN       False      Medium       2992.857143  ORD0004  \n",
       "4         NaN       False        High       3892.857143  ORD0005  "
      ]
     },
     "execution_count": 1,
     "metadata": {},
     "output_type": "execute_result"
    }
   ],
   "source": [
    "import pandas as pd\n",
    "import matplotlib.pyplot as plt \n",
    "import seaborn as sns\n",
    "\n",
    "df = pd.read_csv(\"transformed_sales_data.csv\")\n",
    "\n",
    "df.head()"
   ]
  },
  {
   "cell_type": "markdown",
   "id": "cfe5f9a2-af05-493b-affd-27aa52efede0",
   "metadata": {},
   "source": [
    "## Level 1: Basic Overview of the Dataset"
   ]
  },
  {
   "cell_type": "code",
   "execution_count": 20,
   "id": "1ce69040-967e-4de9-a3bb-909e2ec215d3",
   "metadata": {},
   "outputs": [
    {
     "name": "stdout",
     "output_type": "stream",
     "text": [
      "Shape of dataset: (10, 16)\n",
      "\n",
      "Data types:\n",
      " customer_name        object\n",
      "order_date           object\n",
      "sales               float64\n",
      "quantity_ordered    float64\n",
      "returned?            object\n",
      "high_value_order       bool\n",
      "year                float64\n",
      "month                object\n",
      "unit_price          float64\n",
      "quantity_size        object\n",
      "returned_flag         int64\n",
      "day_of_week          object\n",
      "is_weekend             bool\n",
      "sales_range          object\n",
      "cumulative_sales    float64\n",
      "order_id             object\n",
      "dtype: object\n",
      "\n",
      "Missing values:\n",
      " customer_name       0\n",
      "order_date          9\n",
      "sales               0\n",
      "quantity_ordered    0\n",
      "returned?           0\n",
      "high_value_order    0\n",
      "year                9\n",
      "month               9\n",
      "unit_price          0\n",
      "quantity_size       0\n",
      "returned_flag       0\n",
      "day_of_week         9\n",
      "is_weekend          0\n",
      "sales_range         0\n",
      "cumulative_sales    0\n",
      "order_id            0\n",
      "dtype: int64\n",
      "\n",
      "Basic stats:\n",
      "              sales  quantity_ordered    year  unit_price  returned_flag  \\\n",
      "count    10.000000         10.000000     1.0   10.000000      10.000000   \n",
      "mean    592.857143          2.125000  2023.0  334.460784       0.600000   \n",
      "std     274.295635          0.993031     NaN  203.865471       0.516398   \n",
      "min     100.000000          1.000000  2023.0   50.000000       0.000000   \n",
      "25%     475.000000          1.250000  2023.0  201.155462       0.000000   \n",
      "50%     592.857143          2.062500  2023.0  254.166667       1.000000   \n",
      "75%     785.714286          2.781250  2023.0  537.500000       1.000000   \n",
      "max    1000.000000          4.000000  2023.0  592.857143       1.000000   \n",
      "\n",
      "       cumulative_sales  \n",
      "count         10.000000  \n",
      "mean        3774.285714  \n",
      "std         1636.624478  \n",
      "min         1000.000000  \n",
      "25%         2580.357143  \n",
      "50%         4189.285714  \n",
      "75%         4860.714286  \n",
      "max         5928.571429  \n"
     ]
    }
   ],
   "source": [
    "print(\"Shape of dataset:\", df.shape)\n",
    "print(\"\\nData types:\\n\", df.dtypes)\n",
    "print(\"\\nMissing values:\\n\", df.isnull().sum())\n",
    "print(\"\\nBasic stats:\\n\", df.describe())"
   ]
  },
  {
   "cell_type": "markdown",
   "id": "35ecfdf2-4410-4273-877f-37b2556e8743",
   "metadata": {},
   "source": [
    "## Level 2: Total Sales Overview"
   ]
  },
  {
   "cell_type": "code",
   "execution_count": 4,
   "id": "47f3ba01-c496-4a6b-b2e3-12fbec8b8082",
   "metadata": {},
   "outputs": [
    {
     "name": "stdout",
     "output_type": "stream",
     "text": [
      "Total Sales: ₹ 5928.57\n",
      "Average Sale: ₹ 592.86\n"
     ]
    }
   ],
   "source": [
    "total_sales = df['sales'].sum()\n",
    "average_sales = df['sales'].mean()\n",
    "\n",
    "print(\"Total Sales: ₹\", round(total_sales, 2))\n",
    "print(\"Average Sale: ₹\", round(average_sales, 2))"
   ]
  },
  {
   "cell_type": "markdown",
   "id": "7fa56ce8-e5c2-4c1e-be76-a8dcb9b00bb7",
   "metadata": {},
   "source": [
    "## Level 3: Top 5 Customers by Total Sales"
   ]
  },
  {
   "cell_type": "code",
   "execution_count": 7,
   "id": "7338f883-a6f4-412e-a040-56ad2dd4ce15",
   "metadata": {},
   "outputs": [
    {
     "name": "stdout",
     "output_type": "stream",
     "text": [
      "customer_name\n",
      "Alice    1000.000000\n",
      "David     900.000000\n",
      "Bob       850.000000\n",
      "Eve       592.857143\n",
      "alice     592.857143\n",
      "Name: sales, dtype: float64\n"
     ]
    }
   ],
   "source": [
    "top_customers = df.groupby('customer_name')['sales'].sum().sort_values(ascending=False).head()\n",
    "print(top_customers)"
   ]
  },
  {
   "cell_type": "markdown",
   "id": "ed1e88f4-b9db-4623-80a6-a7ed201516e7",
   "metadata": {},
   "source": [
    "## Level 4: Sales by Month (Bar Chart)"
   ]
  },
  {
   "cell_type": "code",
   "execution_count": 12,
   "id": "7f213e8a-061f-46d2-b24d-65584f13ee28",
   "metadata": {},
   "outputs": [
    {
     "data": {
      "image/png": "[encoded data removed]",
      "text/plain": [
       "<Figure size 1000x500 with 1 Axes>"
      ]
     },
     "metadata": {},
     "output_type": "display_data"
    }
   ],
   "source": [
    "plt.figure(figsize=(10,5))\n",
    "monthly_sales = df.groupby('month')['sales'].sum().reindex([\n",
    "    'January', 'February', 'March', 'April', 'May', 'June', \n",
    "    'July', 'August', 'September', 'October', 'November', 'December'])\n",
    "\n",
    "monthly_sales.plot(kind='bar')\n",
    "plt.title(\"Monthly Sales\")\n",
    "plt.xlabel(\"Month\")\n",
    "plt.ylabel(\"Sales\")\n",
    "plt.xticks(rotation=45)\n",
    "plt.tight_layout()\n",
    "plt.show()"
   ]
  },
  {
   "cell_type": "markdown",
   "id": "39c37440-57b2-46df-a0f2-6f861f33735a",
   "metadata": {},
   "source": [
    "## Level 5: Returned vs Not Returned Sales (Pie Chart)"
   ]
  },
  {
   "cell_type": "code",
   "execution_count": 14,
   "id": "80ad01e5-2657-4bec-8348-55b56ead20cb",
   "metadata": {},
   "outputs": [
    {
     "data": {
      "image/png": "[encoded data removed]",
      "text/plain": [
       "<Figure size 1000x500 with 1 Axes>"
      ]
     },
     "metadata": {},
     "output_type": "display_data"
    }
   ],
   "source": [
    "plt.figure(figsize=(10,5))\n",
    "\n",
    "df['returned?'].value_counts().plot(kind='pie', autopct='%1.1f%%', startangle=90)\n",
    "plt.title('Returned vs Not Returned sales')\n",
    "plt.ylabel(\"\")\n",
    "plt.show()"
   ]
  },
  {
   "cell_type": "markdown",
   "id": "26e75aff-0bb3-48f9-b922-2ef337f53801",
   "metadata": {},
   "source": [
    "## Level 6: Sales Distribution (Histogram)"
   ]
  },
  {
   "cell_type": "code",
   "execution_count": 15,
   "id": "ca717c3e-f733-4db5-b263-35e41423538d",
   "metadata": {},
   "outputs": [
    {
     "data": {
      "image/png": "[encoded data removed]",
      "text/plain": [
       "<Figure size 800x500 with 1 Axes>"
      ]
     },
     "metadata": {},
     "output_type": "display_data"
    }
   ],
   "source": [
    "plt.figure(figsize=(8,5))\n",
    "sns.histplot(df['sales'], bins=20, kde=True)\n",
    "plt.title(\"Sales Distribution\")\n",
    "plt.xlabel(\"Sales\")\n",
    "plt.ylabel(\"Frequency\")\n",
    "plt.show()"
   ]
  },
  {
   "cell_type": "markdown",
   "id": "061ad9fa-a8bd-40bf-a07e-3092ac1fae57",
   "metadata": {},
   "source": [
    "##  Level 7: Correlation Heatmap"
   ]
  },
  {
   "cell_type": "code",
   "execution_count": 16,
   "id": "464bde7a-16eb-4723-bb7a-69e74c3d9977",
   "metadata": {},
   "outputs": [
    {
     "data": {
      "image/png": "[encoded data removed]",
      "text/plain": [
       "<Figure size 1000x600 with 2 Axes>"
      ]
     },
     "metadata": {},
     "output_type": "display_data"
    }
   ],
   "source": [
    "plt.figure(figsize=(10,6))\n",
    "sns.heatmap(df.corr(numeric_only=True), annot=True, cmap='coolwarm')\n",
    "plt.title(\"Correlation Heatmap\")\n",
    "plt.show()\n"
   ]
  },
  {
   "cell_type": "markdown",
   "id": "889dac06-bce1-4af5-bd13-e7c4d804d842",
   "metadata": {},
   "source": [
    "##  Level 8: Sales by Day of Week (Box Plot)"
   ]
  },
  {
   "cell_type": "code",
   "execution_count": 17,
   "id": "f00f7b50-878a-47ff-a96f-4a41b8a13015",
   "metadata": {},
   "outputs": [
    {
     "data": {
      "image/png": "[encoded data removed]",
      "text/plain": [
       "<Figure size 1000x600 with 1 Axes>"
      ]
     },
     "metadata": {},
     "output_type": "display_data"
    }
   ],
   "source": [
    "plt.figure(figsize=(10,6))\n",
    "sns.boxplot(x='day_of_week', y='sales', data=df)\n",
    "plt.title(\"Sales by Day of Week\")\n",
    "plt.xticks(rotation=45)\n",
    "plt.show()"
   ]
  },
  {
   "cell_type": "markdown",
   "id": "b6791c9c-b00e-4cb0-857b-9cb3cb06825c",
   "metadata": {},
   "source": [
    "## Level 9: Compare Sales on Weekend vs Weekday"
   ]
  },
  {
   "cell_type": "code",
   "execution_count": 18,
   "id": "80e06e17-f2d8-4007-a381-f4ba5cc9836d",
   "metadata": {},
   "outputs": [
    {
     "data": {
      "image/png": "[encoded data removed]",
      "text/plain": [
       "<Figure size 600x400 with 1 Axes>"
      ]
     },
     "metadata": {},
     "output_type": "display_data"
    }
   ],
   "source": [
    "plt.figure(figsize=(6,4))\n",
    "sns.barplot(x='is_weekend', y='sales', data=df)\n",
    "plt.title(\"Weekend vs Weekday Sales\")\n",
    "plt.xlabel(\"Is Weekend\")\n",
    "plt.ylabel(\"Average Sales\")\n",
    "plt.xticks([0, 1], ['Weekday', 'Weekend'])\n",
    "plt.show()\n"
   ]
  },
  {
   "cell_type": "markdown",
   "id": "36c6454c-ea66-448c-850b-4b9f8610dc3c",
   "metadata": {},
   "source": [
    "## Level 10: Save Summary Insights"
   ]
  },
  {
   "cell_type": "code",
   "execution_count": 22,
   "id": "03396962-af28-429f-a273-61770ea66c40",
   "metadata": {},
   "outputs": [
    {
     "name": "stdout",
     "output_type": "stream",
     "text": [
      "\n",
      "EDA summary saved as 'EDA_summary.csv'\n"
     ]
    }
   ],
   "source": [
    "# Example summary\n",
    "summary = {\n",
    "    \"Total Sales\": df['sales'].sum(),\n",
    "    \"Average Sale Value\": df['sales'].mean(),\n",
    "    \"Highest Single Sale\": df['sales'].max(),\n",
    "    \"Most Frequent Customer\": df['customer_name'].mode()[0]\n",
    "}\n",
    "\n",
    "summary_df = pd.DataFrame(summary.items(), columns=['Metric', 'Value'])\n",
    "summary_df.to_csv(\"EDA_summary.csv\", index=False)\n",
    "\n",
    "print(\"\\nEDA summary saved as 'EDA_summary.csv'\")\n"
   ]
  },
  {
   "cell_type": "code",
   "execution_count": 23,
   "id": "b116d6c4-8c18-429b-b611-4bd2edf47c05",
   "metadata": {},
   "outputs": [
    {
     "data": {
      "text/html": [
       "<div>\n",
       "<style scoped>\n",
       "    .dataframe tbody tr th:only-of-type {\n",
       "        vertical-align: middle;\n",
       "    }\n",
       "\n",
       "    .dataframe tbody tr th {\n",
       "        vertical-align: top;\n",
       "    }\n",
       "\n",
       "    .dataframe thead th {\n",
       "        text-align: right;\n",
       "    }\n",
       "</style>\n",
       "<table border=\"1\" class=\"dataframe\">\n",
       "  <thead>\n",
       "    <tr style=\"text-align: right;\">\n",
       "      <th></th>\n",
       "      <th>Metric</th>\n",
       "      <th>Value</th>\n",
       "    </tr>\n",
       "  </thead>\n",
       "  <tbody>\n",
       "    <tr>\n",
       "      <th>0</th>\n",
       "      <td>Total Sales</td>\n",
       "      <td>5928.571429</td>\n",
       "    </tr>\n",
       "    <tr>\n",
       "      <th>1</th>\n",
       "      <td>Average Sale Value</td>\n",
       "      <td>592.857143</td>\n",
       "    </tr>\n",
       "    <tr>\n",
       "      <th>2</th>\n",
       "      <td>Highest Single Sale</td>\n",
       "      <td>1000.0</td>\n",
       "    </tr>\n",
       "    <tr>\n",
       "      <th>3</th>\n",
       "      <td>Most Frequent Customer</td>\n",
       "      <td>Alice</td>\n",
       "    </tr>\n",
       "  </tbody>\n",
       "</table>\n",
       "</div>"
      ],
      "text/plain": [
       "                   Metric        Value\n",
       "0             Total Sales  5928.571429\n",
       "1      Average Sale Value   592.857143\n",
       "2     Highest Single Sale       1000.0\n",
       "3  Most Frequent Customer        Alice"
      ]
     },
     "execution_count": 23,
     "metadata": {},
     "output_type": "execute_result"
    }
   ],
   "source": [
    "summary_df"
   ]
  },
  {
   "cell_type": "markdown",
   "id": "3ab58979-25c0-4957-bd50-ddf655d8f71c",
   "metadata": {},
   "source": [
    "##  Interactive EDA Dashboard with Plotly in Jupyter"
   ]
  },
  {
   "cell_type": "markdown",
   "id": "2a252d7b-946e-4adb-b4bc-98b6019dd8d0",
   "metadata": {},
   "source": [
    "### Step 1 — Install & Import Plotly"
   ]
  },
  {
   "cell_type": "code",
   "execution_count": 1,
   "id": "f4be3c5d-052c-4d0c-814b-688ea854ee19",
   "metadata": {},
   "outputs": [],
   "source": [
    "import pandas as pd\n",
    "import plotly.express as px\n",
    "import plotly.graph_objects as go\n"
   ]
  },
  {
   "cell_type": "markdown",
   "id": "416f82ea-310e-4200-ab64-ca70dc091d98",
   "metadata": {},
   "source": [
    "### Step 2 — Load Data"
   ]
  },
  {
   "cell_type": "code",
   "execution_count": 2,
   "id": "bd47f54d-7fa1-426a-9fd1-439d4423346b",
   "metadata": {},
   "outputs": [
    {
     "data": {
      "text/html": [
       "<div>\n",
       "<style scoped>\n",
       "    .dataframe tbody tr th:only-of-type {\n",
       "        vertical-align: middle;\n",
       "    }\n",
       "\n",
       "    .dataframe tbody tr th {\n",
       "        vertical-align: top;\n",
       "    }\n",
       "\n",
       "    .dataframe thead th {\n",
       "        text-align: right;\n",
       "    }\n",
       "</style>\n",
       "<table border=\"1\" class=\"dataframe\">\n",
       "  <thead>\n",
       "    <tr style=\"text-align: right;\">\n",
       "      <th></th>\n",
       "      <th>customer_name</th>\n",
       "      <th>order_date</th>\n",
       "      <th>sales</th>\n",
       "      <th>quantity_ordered</th>\n",
       "      <th>returned?</th>\n",
       "      <th>high_value_order</th>\n",
       "      <th>year</th>\n",
       "      <th>month</th>\n",
       "      <th>unit_price</th>\n",
       "      <th>quantity_size</th>\n",
       "      <th>returned_flag</th>\n",
       "      <th>day_of_week</th>\n",
       "      <th>is_weekend</th>\n",
       "      <th>sales_range</th>\n",
       "      <th>cumulative_sales</th>\n",
       "      <th>order_id</th>\n",
       "    </tr>\n",
       "  </thead>\n",
       "  <tbody>\n",
       "    <tr>\n",
       "      <th>0</th>\n",
       "      <td>Alice</td>\n",
       "      <td>2023-01-15</td>\n",
       "      <td>1000.000000</td>\n",
       "      <td>2.0</td>\n",
       "      <td>Yes</td>\n",
       "      <td>True</td>\n",
       "      <td>2023.0</td>\n",
       "      <td>January</td>\n",
       "      <td>500.000000</td>\n",
       "      <td>Medium</td>\n",
       "      <td>1</td>\n",
       "      <td>Sunday</td>\n",
       "      <td>True</td>\n",
       "      <td>High</td>\n",
       "      <td>1000.000000</td>\n",
       "      <td>ORD0001</td>\n",
       "    </tr>\n",
       "    <tr>\n",
       "      <th>1</th>\n",
       "      <td>Bob</td>\n",
       "      <td>NaN</td>\n",
       "      <td>850.000000</td>\n",
       "      <td>3.0</td>\n",
       "      <td>No</td>\n",
       "      <td>True</td>\n",
       "      <td>NaN</td>\n",
       "      <td>NaN</td>\n",
       "      <td>283.333333</td>\n",
       "      <td>Medium</td>\n",
       "      <td>0</td>\n",
       "      <td>NaN</td>\n",
       "      <td>False</td>\n",
       "      <td>High</td>\n",
       "      <td>1850.000000</td>\n",
       "      <td>ORD0002</td>\n",
       "    </tr>\n",
       "    <tr>\n",
       "      <th>2</th>\n",
       "      <td>alice</td>\n",
       "      <td>NaN</td>\n",
       "      <td>592.857143</td>\n",
       "      <td>1.0</td>\n",
       "      <td>Yes</td>\n",
       "      <td>True</td>\n",
       "      <td>NaN</td>\n",
       "      <td>NaN</td>\n",
       "      <td>592.857143</td>\n",
       "      <td>Low</td>\n",
       "      <td>1</td>\n",
       "      <td>NaN</td>\n",
       "      <td>False</td>\n",
       "      <td>Medium</td>\n",
       "      <td>2442.857143</td>\n",
       "      <td>ORD0003</td>\n",
       "    </tr>\n",
       "    <tr>\n",
       "      <th>3</th>\n",
       "      <td>Charlie</td>\n",
       "      <td>NaN</td>\n",
       "      <td>550.000000</td>\n",
       "      <td>1.0</td>\n",
       "      <td>Yes</td>\n",
       "      <td>True</td>\n",
       "      <td>NaN</td>\n",
       "      <td>NaN</td>\n",
       "      <td>550.000000</td>\n",
       "      <td>Low</td>\n",
       "      <td>1</td>\n",
       "      <td>NaN</td>\n",
       "      <td>False</td>\n",
       "      <td>Medium</td>\n",
       "      <td>2992.857143</td>\n",
       "      <td>ORD0004</td>\n",
       "    </tr>\n",
       "    <tr>\n",
       "      <th>4</th>\n",
       "      <td>David</td>\n",
       "      <td>NaN</td>\n",
       "      <td>900.000000</td>\n",
       "      <td>4.0</td>\n",
       "      <td>No</td>\n",
       "      <td>True</td>\n",
       "      <td>NaN</td>\n",
       "      <td>NaN</td>\n",
       "      <td>225.000000</td>\n",
       "      <td>High</td>\n",
       "      <td>0</td>\n",
       "      <td>NaN</td>\n",
       "      <td>False</td>\n",
       "      <td>High</td>\n",
       "      <td>3892.857143</td>\n",
       "      <td>ORD0005</td>\n",
       "    </tr>\n",
       "  </tbody>\n",
       "</table>\n",
       "</div>"
      ],
      "text/plain": [
       "  customer_name  order_date        sales  quantity_ordered returned?  \\\n",
       "0         Alice  2023-01-15  1000.000000               2.0       Yes   \n",
       "1           Bob         NaN   850.000000               3.0        No   \n",
       "2         alice         NaN   592.857143               1.0       Yes   \n",
       "3       Charlie         NaN   550.000000               1.0       Yes   \n",
       "4         David         NaN   900.000000               4.0        No   \n",
       "\n",
       "   high_value_order    year    month  unit_price quantity_size  returned_flag  \\\n",
       "0              True  2023.0  January  500.000000        Medium              1   \n",
       "1              True     NaN      NaN  283.333333        Medium              0   \n",
       "2              True     NaN      NaN  592.857143           Low              1   \n",
       "3              True     NaN      NaN  550.000000           Low              1   \n",
       "4              True     NaN      NaN  225.000000          High              0   \n",
       "\n",
       "  day_of_week  is_weekend sales_range  cumulative_sales order_id  \n",
       "0      Sunday        True        High       1000.000000  ORD0001  \n",
       "1         NaN       False        High       1850.000000  ORD0002  \n",
       "2         NaN       False      Medium       2442.857143  ORD0003  \n",
       "3         NaN       False      Medium       2992.857143  ORD0004  \n",
       "4         NaN       False        High       3892.857143  ORD0005  "
      ]
     },
     "execution_count": 2,
     "metadata": {},
     "output_type": "execute_result"
    }
   ],
   "source": [
    "# Load your transformed sales data\n",
    "df = pd.read_csv(\"transformed_sales_data.csv\")\n",
    "df.head()\n"
   ]
  },
  {
   "cell_type": "code",
   "execution_count": 11,
   "id": "8abc361b-a2f5-4b10-8e7e-a81329b2311a",
   "metadata": {},
   "outputs": [
    {
     "data": {
      "application/vnd.plotly.v1+json": {
       "config": {
        "plotlyServerURL": "https://plot.ly"
       },
       "data": [
        {
         "coloraxis": "coloraxis",
         "hovertemplate": "x: %{x}<br>y: %{y}<br>color: %{z}<extra></extra>",
         "name": "0",
         "texttemplate": "%{z}",
         "type": "heatmap",
         "x": [
          "sales",
          "quantity_ordered",
          "high_value_order",
          "year",
          "unit_price",
          "returned_flag",
          "is_weekend",
          "cumulative_sales"
         ],
         "xaxis": "x",
         "y": [
          "sales",
          "quantity_ordered",
          "high_value_order",
          "year",
          "unit_price",
          "returned_flag",
          "is_weekend",
          "cumulative_sales"
         ],
         "yaxis": "y",
         "z": {
          "bdata": "AAAAAAAA8D8WucaPgXLWP1jw+cAK6+g/AAAAAAAA+H+4CR8mbLTcP3Q+NPAOsKy/KkbCF2+w4D9IEK+KAG/lvxa5xo+BctY/AAAAAAAA8D8TXg8eQKadPwAAAAAAAPh/zQVcGLSz5L/C2/SIhkTovzNelkgmpaa/6l7O0KsAiL9Y8PnACuvoPxNeDx5App0/AAAAAAAA8D8AAAAAAAD4f4wC9JvoreU/jYXVMWnOtr86nPtWkO7LP3WH566EPOO/AAAAAAAA+H8AAAAAAAD4fwAAAAAAAPh/AAAAAAAA+H8AAAAAAAD4fwAAAAAAAPh/AAAAAAAA+H8AAAAAAAD4f7gJHyZstNw/zQVcGLSz5L+MAvSb6K3lPwAAAAAAAPh/AAAAAAAA8D9UDx9gE6fjP19omZN+QtI/KE3fngse3L90PjTwDrCsv8Lb9IiGROi/jYXVMWnOtr8AAAAAAAD4f1QPH2ATp+M/AAAAAAAA8D/Tcl31KGvRP7TGsiF5dmK/KkbCF2+w4D8zXpZIJqWmvzqc+1aQ7ss/AAAAAAAA+H9faJmTfkLSP9NyXfUoa9E/AAAAAAAA8D8HWtDzNQ/jv0gQr4oAb+W/6l7O0KsAiL91h+euhDzjvwAAAAAAAPh/KE3fngse3L+0xrIheXZivwda0PM1D+O/AAAAAAAA8D8=",
          "dtype": "f8",
          "shape": "8, 8"
         }
        }
       ],
       "layout": {
        "coloraxis": {
         "colorscale": [
          [
           0,
           "#0d0887"
          ],
          [
           0.1111111111111111,
           "#46039f"
          ],
          [
           0.2222222222222222,
           "#7201a8"
          ],
          [
           0.3333333333333333,
           "#9c179e"
          ],
          [
           0.4444444444444444,
           "#bd3786"
          ],
          [
           0.5555555555555556,
           "#d8576b"
          ],
          [
           0.6666666666666666,
           "#ed7953"
          ],
          [
           0.7777777777777778,
           "#fb9f3a"
          ],
          [
           0.8888888888888888,
           "#fdca26"
          ],
          [
           1,
           "#f0f921"
          ]
         ]
        },
        "template": {
         "data": {
          "bar": [
           {
            "error_x": {
             "color": "#2a3f5f"
            },
            "error_y": {
             "color": "#2a3f5f"
            },
            "marker": {
             "line": {
              "color": "#E5ECF6",
              "width": 0.5
             },
             "pattern": {
              "fillmode": "overlay",
              "size": 10,
              "solidity": 0.2
             }
            },
            "type": "bar"
           }
          ],
          "barpolar": [
           {
            "marker": {
             "line": {
              "color": "#E5ECF6",
              "width": 0.5
             },
             "pattern": {
              "fillmode": "overlay",
              "size": 10,
              "solidity": 0.2
             }
            },
            "type": "barpolar"
           }
          ],
          "carpet": [
           {
            "aaxis": {
             "endlinecolor": "#2a3f5f",
             "gridcolor": "white",
             "linecolor": "white",
             "minorgridcolor": "white",
             "startlinecolor": "#2a3f5f"
            },
            "baxis": {
             "endlinecolor": "#2a3f5f",
             "gridcolor": "white",
             "linecolor": "white",
             "minorgridcolor": "white",
             "startlinecolor": "#2a3f5f"
            },
            "type": "carpet"
           }
          ],
          "choropleth": [
           {
            "colorbar": {
             "outlinewidth": 0,
             "ticks": ""
            },
            "type": "choropleth"
           }
          ],
          "contour": [
           {
            "colorbar": {
             "outlinewidth": 0,
             "ticks": ""
            },
            "colorscale": [
             [
              0,
              "#0d0887"
             ],
             [
              0.1111111111111111,
              "#46039f"
             ],
             [
              0.2222222222222222,
              "#7201a8"
             ],
             [
              0.3333333333333333,
              "#9c179e"
             ],
             [
              0.4444444444444444,
              "#bd3786"
             ],
             [
              0.5555555555555556,
              "#d8576b"
             ],
             [
              0.6666666666666666,
              "#ed7953"
             ],
             [
              0.7777777777777778,
              "#fb9f3a"
             ],
             [
              0.8888888888888888,
              "#fdca26"
             ],
             [
              1,
              "#f0f921"
             ]
            ],
            "type": "contour"
           }
          ],
          "contourcarpet": [
           {
            "colorbar": {
             "outlinewidth": 0,
             "ticks": ""
            },
            "type": "contourcarpet"
           }
          ],
          "heatmap": [
           {
            "colorbar": {
             "outlinewidth": 0,
             "ticks": ""
            },
            "colorscale": [
             [
              0,
              "#0d0887"
             ],
             [
              0.1111111111111111,
              "#46039f"
             ],
             [
              0.2222222222222222,
              "#7201a8"
             ],
             [
              0.3333333333333333,
              "#9c179e"
             ],
             [
              0.4444444444444444,
              "#bd3786"
             ],
             [
              0.5555555555555556,
              "#d8576b"
             ],
             [
              0.6666666666666666,
              "#ed7953"
             ],
             [
              0.7777777777777778,
              "#fb9f3a"
             ],
             [
              0.8888888888888888,
              "#fdca26"
             ],
             [
              1,
              "#f0f921"
             ]
            ],
            "type": "heatmap"
           }
          ],
          "histogram": [
           {
            "marker": {
             "pattern": {
              "fillmode": "overlay",
              "size": 10,
              "solidity": 0.2
             }
            },
            "type": "histogram"
           }
          ],
          "histogram2d": [
           {
            "colorbar": {
             "outlinewidth": 0,
             "ticks": ""
            },
            "colorscale": [
             [
              0,
              "#0d0887"
             ],
             [
              0.1111111111111111,
              "#46039f"
             ],
             [
              0.2222222222222222,
              "#7201a8"
             ],
             [
              0.3333333333333333,
              "#9c179e"
             ],
             [
              0.4444444444444444,
              "#bd3786"
             ],
             [
              0.5555555555555556,
              "#d8576b"
             ],
             [
              0.6666666666666666,
              "#ed7953"
             ],
             [
              0.7777777777777778,
              "#fb9f3a"
             ],
             [
              0.8888888888888888,
              "#fdca26"
             ],
             [
              1,
              "#f0f921"
             ]
            ],
            "type": "histogram2d"
           }
          ],
          "histogram2dcontour": [
           {
            "colorbar": {
             "outlinewidth": 0,
             "ticks": ""
            },
            "colorscale": [
             [
              0,
              "#0d0887"
             ],
             [
              0.1111111111111111,
              "#46039f"
             ],
             [
              0.2222222222222222,
              "#7201a8"
             ],
             [
              0.3333333333333333,
              "#9c179e"
             ],
             [
              0.4444444444444444,
              "#bd3786"
             ],
             [
              0.5555555555555556,
              "#d8576b"
             ],
             [
              0.6666666666666666,
              "#ed7953"
             ],
             [
              0.7777777777777778,
              "#fb9f3a"
             ],
             [
              0.8888888888888888,
              "#fdca26"
             ],
             [
              1,
              "#f0f921"
             ]
            ],
            "type": "histogram2dcontour"
           }
          ],
          "mesh3d": [
           {
            "colorbar": {
             "outlinewidth": 0,
             "ticks": ""
            },
            "type": "mesh3d"
           }
          ],
          "parcoords": [
           {
            "line": {
             "colorbar": {
              "outlinewidth": 0,
              "ticks": ""
             }
            },
            "type": "parcoords"
           }
          ],
          "pie": [
           {
            "automargin": true,
            "type": "pie"
           }
          ],
          "scatter": [
           {
            "fillpattern": {
             "fillmode": "overlay",
             "size": 10,
             "solidity": 0.2
            },
            "type": "scatter"
           }
          ],
          "scatter3d": [
           {
            "line": {
             "colorbar": {
              "outlinewidth": 0,
              "ticks": ""
             }
            },
            "marker": {
             "colorbar": {
              "outlinewidth": 0,
              "ticks": ""
             }
            },
            "type": "scatter3d"
           }
          ],
          "scattercarpet": [
           {
            "marker": {
             "colorbar": {
              "outlinewidth": 0,
              "ticks": ""
             }
            },
            "type": "scattercarpet"
           }
          ],
          "scattergeo": [
           {
            "marker": {
             "colorbar": {
              "outlinewidth": 0,
              "ticks": ""
             }
            },
            "type": "scattergeo"
           }
          ],
          "scattergl": [
           {
            "marker": {
             "colorbar": {
              "outlinewidth": 0,
              "ticks": ""
             }
            },
            "type": "scattergl"
           }
          ],
          "scattermap": [
           {
            "marker": {
             "colorbar": {
              "outlinewidth": 0,
              "ticks": ""
             }
            },
            "type": "scattermap"
           }
          ],
          "scattermapbox": [
           {
            "marker": {
             "colorbar": {
              "outlinewidth": 0,
              "ticks": ""
             }
            },
            "type": "scattermapbox"
           }
          ],
          "scatterpolar": [
           {
            "marker": {
             "colorbar": {
              "outlinewidth": 0,
              "ticks": ""
             }
            },
            "type": "scatterpolar"
           }
          ],
          "scatterpolargl": [
           {
            "marker": {
             "colorbar": {
              "outlinewidth": 0,
              "ticks": ""
             }
            },
            "type": "scatterpolargl"
           }
          ],
          "scatterternary": [
           {
            "marker": {
             "colorbar": {
              "outlinewidth": 0,
              "ticks": ""
             }
            },
            "type": "scatterternary"
           }
          ],
          "surface": [
           {
            "colorbar": {
             "outlinewidth": 0,
             "ticks": ""
            },
            "colorscale": [
             [
              0,
              "#0d0887"
             ],
             [
              0.1111111111111111,
              "#46039f"
             ],
             [
              0.2222222222222222,
              "#7201a8"
             ],
             [
              0.3333333333333333,
              "#9c179e"
             ],
             [
              0.4444444444444444,
              "#bd3786"
             ],
             [
              0.5555555555555556,
              "#d8576b"
             ],
             [
              0.6666666666666666,
              "#ed7953"
             ],
             [
              0.7777777777777778,
              "#fb9f3a"
             ],
             [
              0.8888888888888888,
              "#fdca26"
             ],
             [
              1,
              "#f0f921"
             ]
            ],
            "type": "surface"
           }
          ],
          "table": [
           {
            "cells": {
             "fill": {
              "color": "#EBF0F8"
             },
             "line": {
              "color": "white"
             }
            },
            "header": {
             "fill": {
              "color": "#C8D4E3"
             },
             "line": {
              "color": "white"
             }
            },
            "type": "table"
           }
          ]
         },
         "layout": {
          "annotationdefaults": {
           "arrowcolor": "#2a3f5f",
           "arrowhead": 0,
           "arrowwidth": 1
          },
          "autotypenumbers": "strict",
          "coloraxis": {
           "colorbar": {
            "outlinewidth": 0,
            "ticks": ""
           }
          },
          "colorscale": {
           "diverging": [
            [
             0,
             "#8e0152"
            ],
            [
             0.1,
             "#c51b7d"
            ],
            [
             0.2,
             "#de77ae"
            ],
            [
             0.3,
             "#f1b6da"
            ],
            [
             0.4,
             "#fde0ef"
            ],
            [
             0.5,
             "#f7f7f7"
            ],
            [
             0.6,
             "#e6f5d0"
            ],
            [
             0.7,
             "#b8e186"
            ],
            [
             0.8,
             "#7fbc41"
            ],
            [
             0.9,
             "#4d9221"
            ],
            [
             1,
             "#276419"
            ]
           ],
           "sequential": [
            [
             0,
             "#0d0887"
            ],
            [
             0.1111111111111111,
             "#46039f"
            ],
            [
             0.2222222222222222,
             "#7201a8"
            ],
            [
             0.3333333333333333,
             "#9c179e"
            ],
            [
             0.4444444444444444,
             "#bd3786"
            ],
            [
             0.5555555555555556,
             "#d8576b"
            ],
            [
             0.6666666666666666,
             "#ed7953"
            ],
            [
             0.7777777777777778,
             "#fb9f3a"
            ],
            [
             0.8888888888888888,
             "#fdca26"
            ],
            [
             1,
             "#f0f921"
            ]
           ],
           "sequentialminus": [
            [
             0,
             "#0d0887"
            ],
            [
             0.1111111111111111,
             "#46039f"
            ],
            [
             0.2222222222222222,
             "#7201a8"
            ],
            [
             0.3333333333333333,
             "#9c179e"
            ],
            [
             0.4444444444444444,
             "#bd3786"
            ],
            [
             0.5555555555555556,
             "#d8576b"
            ],
            [
             0.6666666666666666,
             "#ed7953"
            ],
            [
             0.7777777777777778,
             "#fb9f3a"
            ],
            [
             0.8888888888888888,
             "#fdca26"
            ],
            [
             1,
             "#f0f921"
            ]
           ]
          },
          "colorway": [
           "#636efa",
           "#EF553B",
           "#00cc96",
           "#ab63fa",
           "#FFA15A",
           "#19d3f3",
           "#FF6692",
           "#B6E880",
           "#FF97FF",
           "#FECB52"
          ],
          "font": {
           "color": "#2a3f5f"
          },
          "geo": {
           "bgcolor": "white",
           "lakecolor": "white",
           "landcolor": "#E5ECF6",
           "showlakes": true,
           "showland": true,
           "subunitcolor": "white"
          },
          "hoverlabel": {
           "align": "left"
          },
          "hovermode": "closest",
          "mapbox": {
           "style": "light"
          },
          "paper_bgcolor": "white",
          "plot_bgcolor": "#E5ECF6",
          "polar": {
           "angularaxis": {
            "gridcolor": "white",
            "linecolor": "white",
            "ticks": ""
           },
           "bgcolor": "#E5ECF6",
           "radialaxis": {
            "gridcolor": "white",
            "linecolor": "white",
            "ticks": ""
           }
          },
          "scene": {
           "xaxis": {
            "backgroundcolor": "#E5ECF6",
            "gridcolor": "white",
            "gridwidth": 2,
            "linecolor": "white",
            "showbackground": true,
            "ticks": "",
            "zerolinecolor": "white"
           },
           "yaxis": {
            "backgroundcolor": "#E5ECF6",
            "gridcolor": "white",
            "gridwidth": 2,
            "linecolor": "white",
            "showbackground": true,
            "ticks": "",
            "zerolinecolor": "white"
           },
           "zaxis": {
            "backgroundcolor": "#E5ECF6",
            "gridcolor": "white",
            "gridwidth": 2,
            "linecolor": "white",
            "showbackground": true,
            "ticks": "",
            "zerolinecolor": "white"
           }
          },
          "shapedefaults": {
           "line": {
            "color": "#2a3f5f"
           }
          },
          "ternary": {
           "aaxis": {
            "gridcolor": "white",
            "linecolor": "white",
            "ticks": ""
           },
           "baxis": {
            "gridcolor": "white",
            "linecolor": "white",
            "ticks": ""
           },
           "bgcolor": "#E5ECF6",
           "caxis": {
            "gridcolor": "white",
            "linecolor": "white",
            "ticks": ""
           }
          },
          "title": {
           "x": 0.05
          },
          "xaxis": {
           "automargin": true,
           "gridcolor": "white",
           "linecolor": "white",
           "ticks": "",
           "title": {
            "standoff": 15
           },
           "zerolinecolor": "white",
           "zerolinewidth": 2
          },
          "yaxis": {
           "automargin": true,
           "gridcolor": "white",
           "linecolor": "white",
           "ticks": "",
           "title": {
            "standoff": 15
           },
           "zerolinecolor": "white",
           "zerolinewidth": 2
          }
         }
        },
        "title": {
         "text": "Correlation Heatmap"
        },
        "xaxis": {
         "anchor": "y",
         "domain": [
          0,
          1
         ]
        },
        "yaxis": {
         "anchor": "x",
         "autorange": "reversed",
         "domain": [
          0,
          1
         ]
        }
       }
      },
      "image/png": "[encoded data removed]"
     },
     "metadata": {},
     "output_type": "display_data"
    }
   ],
   "source": [
    "import numpy as np\n",
    "\n",
    "corr_matrix = df.corr(numeric_only=True)\n",
    "fig = px.imshow(corr_matrix, \n",
    "                text_auto=True,\n",
    "                aspect=\"auto\",\n",
    "                title=\"Correlation Heatmap\")\n",
    "fig.show()\n"
   ]
  },
  {
   "cell_type": "code",
   "execution_count": 14,
   "id": "d8ae1dfb-5669-4930-a236-fd1eecb24680",
   "metadata": {},
   "outputs": [
    {
     "name": "stdout",
     "output_type": "stream",
     "text": [
      "Columns in df: ['customer_name', 'order_date', 'sales', 'quantity_ordered', 'returned?', 'high_value_order', 'year', 'month', 'unit_price', 'quantity_size', 'returned_flag', 'day_of_week', 'is_weekend', 'sales_range', 'cumulative_sales', 'order_id']\n"
     ]
    },
    {
     "data": {
      "application/vnd.plotly.v1+json": {
       "config": {
        "plotlyServerURL": "https://plot.ly"
       },
       "data": [
        {
         "mode": "lines+markers",
         "name": "Monthly Sales",
         "type": "scatter",
         "x": [
          "January"
         ],
         "xaxis": "x",
         "y": {
          "bdata": "AAAAAABAj0A=",
          "dtype": "f8"
         },
         "yaxis": "y"
        },
        {
         "name": "Top Customers",
         "type": "bar",
         "x": [
          "Alice",
          "David",
          "Bob",
          "Eve",
          "alice",
          "Heidi",
          "Charlie",
          "Ivan",
          "Frank",
          "Grace"
         ],
         "xaxis": "x2",
         "y": {
          "bdata": "AAAAAABAj0AAAAAAACCMQAAAAAAAkIpAbtu2bduGgkBu27Zt24aCQG7btm3bhoJAAAAAAAAwgUAAAAAAACB8QAAAAAAAwHJAAAAAAAAAWUA=",
          "dtype": "f8"
         },
         "yaxis": "y2"
        },
        {
         "name": "Sales Dist.",
         "nbinsx": 20,
         "type": "histogram",
         "x": {
          "bdata": "AAAAAABAj0AAAAAAAJCKQG7btm3bhoJAAAAAAAAwgUAAAAAAACCMQG7btm3bhoJAAAAAAADAckAAAAAAAABZQG7btm3bhoJAAAAAAAAgfEA=",
          "dtype": "f8"
         },
         "xaxis": "x3",
         "yaxis": "y3"
        },
        {
         "domain": {
          "x": [
           0.55,
           1
          ],
          "y": [
           0,
           0.375
          ]
         },
         "labels": [
          "Yes",
          "No"
         ],
         "name": "Returns",
         "type": "pie",
         "values": {
          "bdata": "BgQ=",
          "dtype": "i1"
         }
        }
       ],
       "layout": {
        "annotations": [
         {
          "font": {
           "size": 16
          },
          "showarrow": false,
          "text": "Monthly Sales",
          "x": 0.225,
          "xanchor": "center",
          "xref": "paper",
          "y": 1,
          "yanchor": "bottom",
          "yref": "paper"
         },
         {
          "font": {
           "size": 16
          },
          "showarrow": false,
          "text": "Top 10 Customers",
          "x": 0.775,
          "xanchor": "center",
          "xref": "paper",
          "y": 1,
          "yanchor": "bottom",
          "yref": "paper"
         },
         {
          "font": {
           "size": 16
          },
          "showarrow": false,
          "text": "Sales Distribution",
          "x": 0.225,
          "xanchor": "center",
          "xref": "paper",
          "y": 0.375,
          "yanchor": "bottom",
          "yref": "paper"
         },
         {
          "font": {
           "size": 16
          },
          "showarrow": false,
          "text": "Return Status",
          "x": 0.775,
          "xanchor": "center",
          "xref": "paper",
          "y": 0.375,
          "yanchor": "bottom",
          "yref": "paper"
         }
        ],
        "height": 800,
        "template": {
         "data": {
          "bar": [
           {
            "error_x": {
             "color": "#2a3f5f"
            },
            "error_y": {
             "color": "#2a3f5f"
            },
            "marker": {
             "line": {
              "color": "#E5ECF6",
              "width": 0.5
             },
             "pattern": {
              "fillmode": "overlay",
              "size": 10,
              "solidity": 0.2
             }
            },
            "type": "bar"
           }
          ],
          "barpolar": [
           {
            "marker": {
             "line": {
              "color": "#E5ECF6",
              "width": 0.5
             },
             "pattern": {
              "fillmode": "overlay",
              "size": 10,
              "solidity": 0.2
             }
            },
            "type": "barpolar"
           }
          ],
          "carpet": [
           {
            "aaxis": {
             "endlinecolor": "#2a3f5f",
             "gridcolor": "white",
             "linecolor": "white",
             "minorgridcolor": "white",
             "startlinecolor": "#2a3f5f"
            },
            "baxis": {
             "endlinecolor": "#2a3f5f",
             "gridcolor": "white",
             "linecolor": "white",
             "minorgridcolor": "white",
             "startlinecolor": "#2a3f5f"
            },
            "type": "carpet"
           }
          ],
          "choropleth": [
           {
            "colorbar": {
             "outlinewidth": 0,
             "ticks": ""
            },
            "type": "choropleth"
           }
          ],
          "contour": [
           {
            "colorbar": {
             "outlinewidth": 0,
             "ticks": ""
            },
            "colorscale": [
             [
              0,
              "#0d0887"
             ],
             [
              0.1111111111111111,
              "#46039f"
             ],
             [
              0.2222222222222222,
              "#7201a8"
             ],
             [
              0.3333333333333333,
              "#9c179e"
             ],
             [
              0.4444444444444444,
              "#bd3786"
             ],
             [
              0.5555555555555556,
              "#d8576b"
             ],
             [
              0.6666666666666666,
              "#ed7953"
             ],
             [
              0.7777777777777778,
              "#fb9f3a"
             ],
             [
              0.8888888888888888,
              "#fdca26"
             ],
             [
              1,
              "#f0f921"
             ]
            ],
            "type": "contour"
           }
          ],
          "contourcarpet": [
           {
            "colorbar": {
             "outlinewidth": 0,
             "ticks": ""
            },
            "type": "contourcarpet"
           }
          ],
          "heatmap": [
           {
            "colorbar": {
             "outlinewidth": 0,
             "ticks": ""
            },
            "colorscale": [
             [
              0,
              "#0d0887"
             ],
             [
              0.1111111111111111,
              "#46039f"
             ],
             [
              0.2222222222222222,
              "#7201a8"
             ],
             [
              0.3333333333333333,
              "#9c179e"
             ],
             [
              0.4444444444444444,
              "#bd3786"
             ],
             [
              0.5555555555555556,
              "#d8576b"
             ],
             [
              0.6666666666666666,
              "#ed7953"
             ],
             [
              0.7777777777777778,
              "#fb9f3a"
             ],
             [
              0.8888888888888888,
              "#fdca26"
             ],
             [
              1,
              "#f0f921"
             ]
            ],
            "type": "heatmap"
           }
          ],
          "histogram": [
           {
            "marker": {
             "pattern": {
              "fillmode": "overlay",
              "size": 10,
              "solidity": 0.2
             }
            },
            "type": "histogram"
           }
          ],
          "histogram2d": [
           {
            "colorbar": {
             "outlinewidth": 0,
             "ticks": ""
            },
            "colorscale": [
             [
              0,
              "#0d0887"
             ],
             [
              0.1111111111111111,
              "#46039f"
             ],
             [
              0.2222222222222222,
              "#7201a8"
             ],
             [
              0.3333333333333333,
              "#9c179e"
             ],
             [
              0.4444444444444444,
              "#bd3786"
             ],
             [
              0.5555555555555556,
              "#d8576b"
             ],
             [
              0.6666666666666666,
              "#ed7953"
             ],
             [
              0.7777777777777778,
              "#fb9f3a"
             ],
             [
              0.8888888888888888,
              "#fdca26"
             ],
             [
              1,
              "#f0f921"
             ]
            ],
            "type": "histogram2d"
           }
          ],
          "histogram2dcontour": [
           {
            "colorbar": {
             "outlinewidth": 0,
             "ticks": ""
            },
            "colorscale": [
             [
              0,
              "#0d0887"
             ],
             [
              0.1111111111111111,
              "#46039f"
             ],
             [
              0.2222222222222222,
              "#7201a8"
             ],
             [
              0.3333333333333333,
              "#9c179e"
             ],
             [
              0.4444444444444444,
              "#bd3786"
             ],
             [
              0.5555555555555556,
              "#d8576b"
             ],
             [
              0.6666666666666666,
              "#ed7953"
             ],
             [
              0.7777777777777778,
              "#fb9f3a"
             ],
             [
              0.8888888888888888,
              "#fdca26"
             ],
             [
              1,
              "#f0f921"
             ]
            ],
            "type": "histogram2dcontour"
           }
          ],
          "mesh3d": [
           {
            "colorbar": {
             "outlinewidth": 0,
             "ticks": ""
            },
            "type": "mesh3d"
           }
          ],
          "parcoords": [
           {
            "line": {
             "colorbar": {
              "outlinewidth": 0,
              "ticks": ""
             }
            },
            "type": "parcoords"
           }
          ],
          "pie": [
           {
            "automargin": true,
            "type": "pie"
           }
          ],
          "scatter": [
           {
            "fillpattern": {
             "fillmode": "overlay",
             "size": 10,
             "solidity": 0.2
            },
            "type": "scatter"
           }
          ],
          "scatter3d": [
           {
            "line": {
             "colorbar": {
              "outlinewidth": 0,
              "ticks": ""
             }
            },
            "marker": {
             "colorbar": {
              "outlinewidth": 0,
              "ticks": ""
             }
            },
            "type": "scatter3d"
           }
          ],
          "scattercarpet": [
           {
            "marker": {
             "colorbar": {
              "outlinewidth": 0,
              "ticks": ""
             }
            },
            "type": "scattercarpet"
           }
          ],
          "scattergeo": [
           {
            "marker": {
             "colorbar": {
              "outlinewidth": 0,
              "ticks": ""
             }
            },
            "type": "scattergeo"
           }
          ],
          "scattergl": [
           {
            "marker": {
             "colorbar": {
              "outlinewidth": 0,
              "ticks": ""
             }
            },
            "type": "scattergl"
           }
          ],
          "scattermap": [
           {
            "marker": {
             "colorbar": {
              "outlinewidth": 0,
              "ticks": ""
             }
            },
            "type": "scattermap"
           }
          ],
          "scattermapbox": [
           {
            "marker": {
             "colorbar": {
              "outlinewidth": 0,
              "ticks": ""
             }
            },
            "type": "scattermapbox"
           }
          ],
          "scatterpolar": [
           {
            "marker": {
             "colorbar": {
              "outlinewidth": 0,
              "ticks": ""
             }
            },
            "type": "scatterpolar"
           }
          ],
          "scatterpolargl": [
           {
            "marker": {
             "colorbar": {
              "outlinewidth": 0,
              "ticks": ""
             }
            },
            "type": "scatterpolargl"
           }
          ],
          "scatterternary": [
           {
            "marker": {
             "colorbar": {
              "outlinewidth": 0,
              "ticks": ""
             }
            },
            "type": "scatterternary"
           }
          ],
          "surface": [
           {
            "colorbar": {
             "outlinewidth": 0,
             "ticks": ""
            },
            "colorscale": [
             [
              0,
              "#0d0887"
             ],
             [
              0.1111111111111111,
              "#46039f"
             ],
             [
              0.2222222222222222,
              "#7201a8"
             ],
             [
              0.3333333333333333,
              "#9c179e"
             ],
             [
              0.4444444444444444,
              "#bd3786"
             ],
             [
              0.5555555555555556,
              "#d8576b"
             ],
             [
              0.6666666666666666,
              "#ed7953"
             ],
             [
              0.7777777777777778,
              "#fb9f3a"
             ],
             [
              0.8888888888888888,
              "#fdca26"
             ],
             [
              1,
              "#f0f921"
             ]
            ],
            "type": "surface"
           }
          ],
          "table": [
           {
            "cells": {
             "fill": {
              "color": "#EBF0F8"
             },
             "line": {
              "color": "white"
             }
            },
            "header": {
             "fill": {
              "color": "#C8D4E3"
             },
             "line": {
              "color": "white"
             }
            },
            "type": "table"
           }
          ]
         },
         "layout": {
          "annotationdefaults": {
           "arrowcolor": "#2a3f5f",
           "arrowhead": 0,
           "arrowwidth": 1
          },
          "autotypenumbers": "strict",
          "coloraxis": {
           "colorbar": {
            "outlinewidth": 0,
            "ticks": ""
           }
          },
          "colorscale": {
           "diverging": [
            [
             0,
             "#8e0152"
            ],
            [
             0.1,
             "#c51b7d"
            ],
            [
             0.2,
             "#de77ae"
            ],
            [
             0.3,
             "#f1b6da"
            ],
            [
             0.4,
             "#fde0ef"
            ],
            [
             0.5,
             "#f7f7f7"
            ],
            [
             0.6,
             "#e6f5d0"
            ],
            [
             0.7,
             "#b8e186"
            ],
            [
             0.8,
             "#7fbc41"
            ],
            [
             0.9,
             "#4d9221"
            ],
            [
             1,
             "#276419"
            ]
           ],
           "sequential": [
            [
             0,
             "#0d0887"
            ],
            [
             0.1111111111111111,
             "#46039f"
            ],
            [
             0.2222222222222222,
             "#7201a8"
            ],
            [
             0.3333333333333333,
             "#9c179e"
            ],
            [
             0.4444444444444444,
             "#bd3786"
            ],
            [
             0.5555555555555556,
             "#d8576b"
            ],
            [
             0.6666666666666666,
             "#ed7953"
            ],
            [
             0.7777777777777778,
             "#fb9f3a"
            ],
            [
             0.8888888888888888,
             "#fdca26"
            ],
            [
             1,
             "#f0f921"
            ]
           ],
           "sequentialminus": [
            [
             0,
             "#0d0887"
            ],
            [
             0.1111111111111111,
             "#46039f"
            ],
            [
             0.2222222222222222,
             "#7201a8"
            ],
            [
             0.3333333333333333,
             "#9c179e"
            ],
            [
             0.4444444444444444,
             "#bd3786"
            ],
            [
             0.5555555555555556,
             "#d8576b"
            ],
            [
             0.6666666666666666,
             "#ed7953"
            ],
            [
             0.7777777777777778,
             "#fb9f3a"
            ],
            [
             0.8888888888888888,
             "#fdca26"
            ],
            [
             1,
             "#f0f921"
            ]
           ]
          },
          "colorway": [
           "#636efa",
           "#EF553B",
           "#00cc96",
           "#ab63fa",
           "#FFA15A",
           "#19d3f3",
           "#FF6692",
           "#B6E880",
           "#FF97FF",
           "#FECB52"
          ],
          "font": {
           "color": "#2a3f5f"
          },
          "geo": {
           "bgcolor": "white",
           "lakecolor": "white",
           "landcolor": "#E5ECF6",
           "showlakes": true,
           "showland": true,
           "subunitcolor": "white"
          },
          "hoverlabel": {
           "align": "left"
          },
          "hovermode": "closest",
          "mapbox": {
           "style": "light"
          },
          "paper_bgcolor": "white",
          "plot_bgcolor": "#E5ECF6",
          "polar": {
           "angularaxis": {
            "gridcolor": "white",
            "linecolor": "white",
            "ticks": ""
           },
           "bgcolor": "#E5ECF6",
           "radialaxis": {
            "gridcolor": "white",
            "linecolor": "white",
            "ticks": ""
           }
          },
          "scene": {
           "xaxis": {
            "backgroundcolor": "#E5ECF6",
            "gridcolor": "white",
            "gridwidth": 2,
            "linecolor": "white",
            "showbackground": true,
            "ticks": "",
            "zerolinecolor": "white"
           },
           "yaxis": {
            "backgroundcolor": "#E5ECF6",
            "gridcolor": "white",
            "gridwidth": 2,
            "linecolor": "white",
            "showbackground": true,
            "ticks": "",
            "zerolinecolor": "white"
           },
           "zaxis": {
            "backgroundcolor": "#E5ECF6",
            "gridcolor": "white",
            "gridwidth": 2,
            "linecolor": "white",
            "showbackground": true,
            "ticks": "",
            "zerolinecolor": "white"
           }
          },
          "shapedefaults": {
           "line": {
            "color": "#2a3f5f"
           }
          },
          "ternary": {
           "aaxis": {
            "gridcolor": "white",
            "linecolor": "white",
            "ticks": ""
           },
           "baxis": {
            "gridcolor": "white",
            "linecolor": "white",
            "ticks": ""
           },
           "bgcolor": "#E5ECF6",
           "caxis": {
            "gridcolor": "white",
            "linecolor": "white",
            "ticks": ""
           }
          },
          "title": {
           "x": 0.05
          },
          "xaxis": {
           "automargin": true,
           "gridcolor": "white",
           "linecolor": "white",
           "ticks": "",
           "title": {
            "standoff": 15
           },
           "zerolinecolor": "white",
           "zerolinewidth": 2
          },
          "yaxis": {
           "automargin": true,
           "gridcolor": "white",
           "linecolor": "white",
           "ticks": "",
           "title": {
            "standoff": 15
           },
           "zerolinecolor": "white",
           "zerolinewidth": 2
          }
         }
        },
        "title": {
         "text": "📊 Sales Dashboard (Interactive)"
        },
        "xaxis": {
         "anchor": "y",
         "domain": [
          0,
          0.45
         ],
         "tickangle": 45
        },
        "xaxis2": {
         "anchor": "y2",
         "domain": [
          0.55,
          1
         ],
         "tickangle": 45
        },
        "xaxis3": {
         "anchor": "y3",
         "domain": [
          0,
          0.45
         ],
         "tickangle": 45
        },
        "yaxis": {
         "anchor": "x",
         "domain": [
          0.625,
          1
         ]
        },
        "yaxis2": {
         "anchor": "x2",
         "domain": [
          0.625,
          1
         ]
        },
        "yaxis3": {
         "anchor": "x3",
         "domain": [
          0,
          0.375
         ]
        }
       }
      },
      "image/png": "[encoded data removed]"
     },
     "metadata": {},
     "output_type": "display_data"
    }
   ],
   "source": [
    "# Robust Step 8: Build dashboard with safety checks\n",
    "import pandas as pd\n",
    "import plotly.graph_objects as go\n",
    "from plotly.subplots import make_subplots\n",
    "\n",
    "# ---------- 1) Make sure df is loaded ----------\n",
    "# If you haven't loaded df yet, uncomment and update the path:\n",
    "# df = pd.read_csv(\"transformed_sales_data.csv\")\n",
    "\n",
    "print(\"Columns in df:\", df.columns.tolist())\n",
    "\n",
    "# ---------- 2) Ensure required columns exist or create them ----------\n",
    "required = ['sales', 'customer_name']\n",
    "for col in required:\n",
    "    if col not in df.columns:\n",
    "        raise KeyError(f\"Required column missing: '{col}'. Check your dataframe.\")\n",
    "\n",
    "# If 'month' missing, try to derive from order_date\n",
    "if 'month' not in df.columns:\n",
    "    if 'order_date' in df.columns:\n",
    "        df['order_date'] = pd.to_datetime(df['order_date'], errors='coerce')\n",
    "        df['month'] = df['order_date'].dt.month_name()\n",
    "        print(\"Derived 'month' from 'order_date'.\")\n",
    "    else:\n",
    "        print(\"Warning: 'month' and 'order_date' missing. Monthly chart will be empty.\")\n",
    "\n",
    "# Normalize the returned column - try common names\n",
    "returned_col = None\n",
    "for cand in ['returned?', 'returned', 'returned_flag']:\n",
    "    if cand in df.columns:\n",
    "        returned_col = cand\n",
    "        break\n",
    "if returned_col is None:\n",
    "    print(\"Note: no 'returned?' column found. Pie chart will be empty. Proceeding anyway.\")\n",
    "\n",
    "# ---------- 3) Convert numeric columns safely ----------\n",
    "df['sales'] = pd.to_numeric(df['sales'], errors='coerce')\n",
    "sales_values = df['sales'].dropna()\n",
    "if sales_values.empty:\n",
    "    print(\"Warning: 'sales' column has no numeric values after conversion.\")\n",
    "\n",
    "# ---------- 4) Prepare data for plots ----------\n",
    "# Monthly sales (ordered by calendar)\n",
    "if 'month' in df.columns:\n",
    "    monthly_sales = df.groupby('month')['sales'].sum().reset_index()\n",
    "    month_order = ['January','February','March','April','May','June',\n",
    "                   'July','August','September','October','November','December']\n",
    "    monthly_sales['month'] = pd.Categorical(monthly_sales['month'], categories=month_order, ordered=True)\n",
    "    monthly_sales = monthly_sales.sort_values('month')\n",
    "else:\n",
    "    monthly_sales = pd.DataFrame({'month':[], 'sales':[]})\n",
    "\n",
    "# Top customers\n",
    "top_customers = df.groupby('customer_name')['sales'].sum().nlargest(10).reset_index()\n",
    "\n",
    "# Returns count\n",
    "returns_count = pd.DataFrame(columns=['returned_status','count'])\n",
    "if returned_col:\n",
    "    tmp = df[returned_col].astype(str).str.strip()\n",
    "    # try some normalization for display\n",
    "    tmp = tmp.str.lower().map({'yes':'Yes','y':'Yes','no':'No','n':'No'}).fillna(tmp)\n",
    "    returns_count = tmp.value_counts().reset_index()\n",
    "    returns_count.columns = ['returned_status','count']\n",
    "\n",
    "# ---------- 5) Build subplots ----------\n",
    "fig = make_subplots(\n",
    "    rows=2, cols=2,\n",
    "    subplot_titles=(\"Monthly Sales\", \"Top 10 Customers\", \"Sales Distribution\", \"Return Status\"),\n",
    "    specs=[[{\"type\":\"xy\"}, {\"type\":\"xy\"}],\n",
    "           [{\"type\":\"xy\"}, {\"type\":\"domain\"}]]\n",
    ")\n",
    "\n",
    "# Monthly Sales - line\n",
    "if not monthly_sales.empty:\n",
    "    fig.add_trace(\n",
    "        go.Scatter(x=monthly_sales['month'].astype(str), y=monthly_sales['sales'],\n",
    "                   mode='lines+markers', name=\"Monthly Sales\"),\n",
    "        row=1, col=1\n",
    "    )\n",
    "else:\n",
    "    fig.add_trace(go.Scatter(x=[], y=[], name=\"Monthly Sales\"), row=1, col=1)\n",
    "\n",
    "# Top Customers - bar\n",
    "fig.add_trace(\n",
    "    go.Bar(x=top_customers['customer_name'], y=top_customers['sales'], name=\"Top Customers\"),\n",
    "    row=1, col=2\n",
    ")\n",
    "\n",
    "# Sales Distribution - histogram\n",
    "fig.add_trace(\n",
    "    go.Histogram(x=sales_values, nbinsx=20, name=\"Sales Dist.\"),\n",
    "    row=2, col=1\n",
    ")\n",
    "\n",
    "# Return Status - pie\n",
    "if not returns_count.empty:\n",
    "    fig.add_trace(\n",
    "        go.Pie(labels=returns_count['returned_status'], values=returns_count['count'], name=\"Returns\"),\n",
    "        row=2, col=2\n",
    "    )\n",
    "else:\n",
    "    # add an empty pie with placeholder to avoid errors\n",
    "    fig.add_trace(go.Pie(labels=[\"No data\"], values=[1], name=\"Returns\"), row=2, col=2)\n",
    "\n",
    "# ---------- 6) Layout tweaks ----------\n",
    "fig.update_layout(title_text=\"📊 Sales Dashboard (Interactive)\", height=800)\n",
    "fig.update_xaxes(tickangle=45)\n",
    "\n",
    "# Show\n",
    "fig.show()\n"
   ]
  },
  {
   "cell_type": "code",
   "execution_count": null,
   "id": "c1fdd3be-723a-4353-844a-ae36cce4fb79",
   "metadata": {},
   "outputs": [],
   "source": []
  }
 ],
 "metadata": {
  "kernelspec": {
   "display_name": "Python 3 (ipykernel)",
   "language": "python",
   "name": "python3"
  },
  "language_info": {
   "codemirror_mode": {
    "name": "ipython",
    "version": 3
   },
   "file_extension": ".py",
   "mimetype": "text/x-python",
   "name": "python",
   "nbconvert_exporter": "python",
   "pygments_lexer": "ipython3",
   "version": "3.12.3"
  }
 },
 "nbformat": 4,
 "nbformat_minor": 5
}
