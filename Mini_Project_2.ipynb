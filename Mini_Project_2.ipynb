{
 "cells": [
  {
   "cell_type": "markdown",
   "id": "e714ebc2-a555-4839-b1cd-acdbcf475946",
   "metadata": {},
   "source": [
    "# **Mini-Project-2:**"
   ]
  },
  {
   "cell_type": "markdown",
   "id": "c5d5397e-25aa-4c31-9a1a-74f366f0a3ec",
   "metadata": {},
   "source": [
    "## Data Wrangling Challenges (Levels 1–10)\n",
    "### Goal: Practice cleaning, transforming, and organizing data step-by-step."
   ]
  },
  {
   "cell_type": "code",
   "execution_count": 113,
   "id": "d1737b92-025a-4312-a433-a7bd17b89646",
   "metadata": {},
   "outputs": [],
   "source": [
    "import pandas as pd\n",
    "import matplotlib.pyplot as plot"
   ]
  },
  {
   "cell_type": "code",
   "execution_count": 114,
   "id": "cd0d3f5a-f315-44ec-8d13-3269f64750fa",
   "metadata": {},
   "outputs": [],
   "source": [
    "file_path = r\"C:\\Users\\rohan\\OneDrive\\Desktop\\Jupyter Projects\\Notes\\CSV Files\\messy_data_wrangling_project.csv\"\n",
    "df = pd.read_csv(file_path)"
   ]
  },
  {
   "cell_type": "code",
   "execution_count": 115,
   "id": "5f14bd61-d176-4bef-8add-3bf0113d8e33",
   "metadata": {},
   "outputs": [
    {
     "data": {
      "text/html": [
       "<div>\n",
       "<style scoped>\n",
       "    .dataframe tbody tr th:only-of-type {\n",
       "        vertical-align: middle;\n",
       "    }\n",
       "\n",
       "    .dataframe tbody tr th {\n",
       "        vertical-align: top;\n",
       "    }\n",
       "\n",
       "    .dataframe thead th {\n",
       "        text-align: right;\n",
       "    }\n",
       "</style>\n",
       "<table border=\"1\" class=\"dataframe\">\n",
       "  <thead>\n",
       "    <tr style=\"text-align: right;\">\n",
       "      <th></th>\n",
       "      <th>Customer Name</th>\n",
       "      <th>Order Date</th>\n",
       "      <th>SALES</th>\n",
       "      <th>Quantity Ordered</th>\n",
       "      <th>Returned?</th>\n",
       "      <th>Extra Column</th>\n",
       "    </tr>\n",
       "  </thead>\n",
       "  <tbody>\n",
       "    <tr>\n",
       "      <th>0</th>\n",
       "      <td>Alice</td>\n",
       "      <td>2023/01/15</td>\n",
       "      <td>1000.0</td>\n",
       "      <td>2</td>\n",
       "      <td>Yes</td>\n",
       "      <td>xyz</td>\n",
       "    </tr>\n",
       "    <tr>\n",
       "      <th>1</th>\n",
       "      <td>Bob</td>\n",
       "      <td>15-02-2023</td>\n",
       "      <td>850.0</td>\n",
       "      <td>3</td>\n",
       "      <td>no</td>\n",
       "      <td>xyz</td>\n",
       "    </tr>\n",
       "    <tr>\n",
       "      <th>2</th>\n",
       "      <td>alice</td>\n",
       "      <td>2023-03-10</td>\n",
       "      <td>NaN</td>\n",
       "      <td>1</td>\n",
       "      <td>Y</td>\n",
       "      <td>xyz</td>\n",
       "    </tr>\n",
       "    <tr>\n",
       "      <th>3</th>\n",
       "      <td>Charlie</td>\n",
       "      <td>03.04.2023</td>\n",
       "      <td>550.0</td>\n",
       "      <td>1</td>\n",
       "      <td>YES</td>\n",
       "      <td>xyz</td>\n",
       "    </tr>\n",
       "    <tr>\n",
       "      <th>4</th>\n",
       "      <td>David</td>\n",
       "      <td>April 5, 2023</td>\n",
       "      <td>900.0</td>\n",
       "      <td>4</td>\n",
       "      <td>No</td>\n",
       "      <td>xyz</td>\n",
       "    </tr>\n",
       "  </tbody>\n",
       "</table>\n",
       "</div>"
      ],
      "text/plain": [
       "  Customer Name     Order Date   SALES Quantity Ordered Returned? Extra Column\n",
       "0         Alice     2023/01/15  1000.0                2       Yes          xyz\n",
       "1           Bob     15-02-2023   850.0                3        no          xyz\n",
       "2         alice     2023-03-10     NaN                1         Y          xyz\n",
       "3       Charlie     03.04.2023   550.0                1       YES          xyz\n",
       "4         David  April 5, 2023   900.0                4        No          xyz"
      ]
     },
     "execution_count": 115,
     "metadata": {},
     "output_type": "execute_result"
    }
   ],
   "source": [
    "df.head()"
   ]
  },
  {
   "cell_type": "markdown",
   "id": "67b15233-40c1-4591-b7a5-2d43a8fecb20",
   "metadata": {},
   "source": [
    "## 1.Level 1: Rename all column headers to lowercase and replace spaces with underscores"
   ]
  },
  {
   "cell_type": "code",
   "execution_count": 116,
   "id": "dbc25b0e-c329-4b89-82a0-afcb9181194e",
   "metadata": {},
   "outputs": [
    {
     "name": "stdout",
     "output_type": "stream",
     "text": [
      "\n",
      "✅ [Level 1] Cleaned column names:\n",
      "['customer_name', 'order_date', 'sales', 'quantity_ordered', 'returned?', 'extra_column']\n"
     ]
    }
   ],
   "source": [
    "df.columns  = df.columns.str.lower().str.replace(\" \",\"_\")\n",
    "print(\"\\n✅ [Level 1] Cleaned column names:\")\n",
    "print(df.columns.tolist())"
   ]
  },
  {
   "cell_type": "markdown",
   "id": "0f8aa9fb-6eb3-4cd5-bd45-16333c1bda5b",
   "metadata": {},
   "source": [
    "## 2. Level 2: Remove extra spaces from text values"
   ]
  },
  {
   "cell_type": "code",
   "execution_count": 117,
   "id": "8d4093b2-1c9f-4d86-bf3d-b439421b7b16",
   "metadata": {},
   "outputs": [
    {
     "name": "stdout",
     "output_type": "stream",
     "text": [
      "\n",
      "✅ [Level 2] Removed leading/trailing spaces from text columns.\n"
     ]
    }
   ],
   "source": [
    "str_cols = df.select_dtypes(include='object').columns\n",
    "df[str_cols] = df[str_cols].apply(lambda x: x.str.strip())\n",
    "\n",
    "print(\"\\n✅ [Level 2] Removed leading/trailing spaces from text columns.\")"
   ]
  },
  {
   "cell_type": "code",
   "execution_count": null,
   "id": "a66937ad-e23b-4e3b-aabf-807837f1b966",
   "metadata": {},
   "outputs": [],
   "source": []
  },
  {
   "cell_type": "markdown",
   "id": "86a08496-c74a-4d00-9038-325b43b3a462",
   "metadata": {},
   "source": [
    "## 3.Level 3: Convert order_date column to proper date format"
   ]
  },
  {
   "cell_type": "code",
   "execution_count": 118,
   "id": "3db62cd5-a84f-4d45-b2be-b50055e27ecc",
   "metadata": {},
   "outputs": [
    {
     "name": "stdout",
     "output_type": "stream",
     "text": [
      "\n",
      "✅ [Level 3] Converted 'order_date' to datetime format.\n"
     ]
    }
   ],
   "source": [
    "df['order_date'] = pd.to_datetime(df['order_date'], errors='coerce')\n",
    "print(\"\\n✅ [Level 3] Converted 'order_date' to datetime format.\")"
   ]
  },
  {
   "cell_type": "code",
   "execution_count": 119,
   "id": "52179eb0-979d-4775-88c3-ad598c30d740",
   "metadata": {},
   "outputs": [
    {
     "data": {
      "text/plain": [
       "0    2023-01-15\n",
       "1           NaT\n",
       "2           NaT\n",
       "3           NaT\n",
       "4           NaT\n",
       "5           NaT\n",
       "6           NaT\n",
       "7           NaT\n",
       "8           NaT\n",
       "9           NaT\n",
       "10          NaT\n",
       "Name: order_date, dtype: datetime64[ns]"
      ]
     },
     "execution_count": 119,
     "metadata": {},
     "output_type": "execute_result"
    }
   ],
   "source": [
    "df['order_date']"
   ]
  },
  {
   "cell_type": "markdown",
   "id": "c49cf90a-c46d-4d3c-8bff-03631ae42311",
   "metadata": {},
   "source": [
    "## 4. Level 4: Remove duplicate rows"
   ]
  },
  {
   "cell_type": "code",
   "execution_count": 120,
   "id": "844c53cb-deb0-4887-b3cc-a83a42e2ceac",
   "metadata": {},
   "outputs": [
    {
     "name": "stdout",
     "output_type": "stream",
     "text": [
      "\n",
      "✅ [Level 4] Removed duplicate rows.\n"
     ]
    }
   ],
   "source": [
    "df = df.drop_duplicates()\n",
    "print(\"\\n✅ [Level 4] Removed duplicate rows.\")"
   ]
  },
  {
   "cell_type": "code",
   "execution_count": 121,
   "id": "6d2f8ae0-e30b-4960-88c1-33d18f2c9a67",
   "metadata": {},
   "outputs": [
    {
     "data": {
      "text/html": [
       "<div>\n",
       "<style scoped>\n",
       "    .dataframe tbody tr th:only-of-type {\n",
       "        vertical-align: middle;\n",
       "    }\n",
       "\n",
       "    .dataframe tbody tr th {\n",
       "        vertical-align: top;\n",
       "    }\n",
       "\n",
       "    .dataframe thead th {\n",
       "        text-align: right;\n",
       "    }\n",
       "</style>\n",
       "<table border=\"1\" class=\"dataframe\">\n",
       "  <thead>\n",
       "    <tr style=\"text-align: right;\">\n",
       "      <th></th>\n",
       "      <th>customer_name</th>\n",
       "      <th>order_date</th>\n",
       "      <th>sales</th>\n",
       "      <th>quantity_ordered</th>\n",
       "      <th>returned?</th>\n",
       "      <th>extra_column</th>\n",
       "    </tr>\n",
       "  </thead>\n",
       "  <tbody>\n",
       "    <tr>\n",
       "      <th>0</th>\n",
       "      <td>Alice</td>\n",
       "      <td>2023-01-15</td>\n",
       "      <td>1000.0</td>\n",
       "      <td>2</td>\n",
       "      <td>Yes</td>\n",
       "      <td>xyz</td>\n",
       "    </tr>\n",
       "    <tr>\n",
       "      <th>1</th>\n",
       "      <td>Bob</td>\n",
       "      <td>NaT</td>\n",
       "      <td>850.0</td>\n",
       "      <td>3</td>\n",
       "      <td>no</td>\n",
       "      <td>xyz</td>\n",
       "    </tr>\n",
       "    <tr>\n",
       "      <th>2</th>\n",
       "      <td>alice</td>\n",
       "      <td>NaT</td>\n",
       "      <td>NaN</td>\n",
       "      <td>1</td>\n",
       "      <td>Y</td>\n",
       "      <td>xyz</td>\n",
       "    </tr>\n",
       "    <tr>\n",
       "      <th>3</th>\n",
       "      <td>Charlie</td>\n",
       "      <td>NaT</td>\n",
       "      <td>550.0</td>\n",
       "      <td>1</td>\n",
       "      <td>YES</td>\n",
       "      <td>xyz</td>\n",
       "    </tr>\n",
       "    <tr>\n",
       "      <th>4</th>\n",
       "      <td>David</td>\n",
       "      <td>NaT</td>\n",
       "      <td>900.0</td>\n",
       "      <td>4</td>\n",
       "      <td>No</td>\n",
       "      <td>xyz</td>\n",
       "    </tr>\n",
       "    <tr>\n",
       "      <th>5</th>\n",
       "      <td>Eve</td>\n",
       "      <td>NaT</td>\n",
       "      <td>NaN</td>\n",
       "      <td>3</td>\n",
       "      <td>n</td>\n",
       "      <td>xyz</td>\n",
       "    </tr>\n",
       "    <tr>\n",
       "      <th>6</th>\n",
       "      <td>Frank</td>\n",
       "      <td>NaT</td>\n",
       "      <td>300.0</td>\n",
       "      <td>NaN</td>\n",
       "      <td>yes</td>\n",
       "      <td>xyz</td>\n",
       "    </tr>\n",
       "    <tr>\n",
       "      <th>7</th>\n",
       "      <td>Grace</td>\n",
       "      <td>NaT</td>\n",
       "      <td>100.0</td>\n",
       "      <td>2</td>\n",
       "      <td>N</td>\n",
       "      <td>xyz</td>\n",
       "    </tr>\n",
       "    <tr>\n",
       "      <th>8</th>\n",
       "      <td>Heidi</td>\n",
       "      <td>NaT</td>\n",
       "      <td>NaN</td>\n",
       "      <td>1</td>\n",
       "      <td>Y</td>\n",
       "      <td>xyz</td>\n",
       "    </tr>\n",
       "    <tr>\n",
       "      <th>9</th>\n",
       "      <td>Ivan</td>\n",
       "      <td>NaT</td>\n",
       "      <td>450.0</td>\n",
       "      <td>two</td>\n",
       "      <td>y</td>\n",
       "      <td>xyz</td>\n",
       "    </tr>\n",
       "  </tbody>\n",
       "</table>\n",
       "</div>"
      ],
      "text/plain": [
       "  customer_name order_date   sales quantity_ordered returned? extra_column\n",
       "0         Alice 2023-01-15  1000.0                2       Yes          xyz\n",
       "1           Bob        NaT   850.0                3        no          xyz\n",
       "2         alice        NaT     NaN                1         Y          xyz\n",
       "3       Charlie        NaT   550.0                1       YES          xyz\n",
       "4         David        NaT   900.0                4        No          xyz\n",
       "5           Eve        NaT     NaN                3         n          xyz\n",
       "6         Frank        NaT   300.0              NaN       yes          xyz\n",
       "7         Grace        NaT   100.0                2         N          xyz\n",
       "8         Heidi        NaT     NaN                1         Y          xyz\n",
       "9          Ivan        NaT   450.0              two         y          xyz"
      ]
     },
     "execution_count": 121,
     "metadata": {},
     "output_type": "execute_result"
    }
   ],
   "source": [
    "df"
   ]
  },
  {
   "cell_type": "markdown",
   "id": "890ce252-4563-4edd-a606-5b596ee1cbad",
   "metadata": {},
   "source": [
    "## 5. Level 5: Handle missing values (Numerical)"
   ]
  },
  {
   "cell_type": "code",
   "execution_count": 140,
   "id": "2cf9d0c2-d7c9-406e-a786-abfa52e36e6d",
   "metadata": {},
   "outputs": [
    {
     "name": "stdout",
     "output_type": "stream",
     "text": [
      "\n",
      "✅ [Level 5] Missing numeric values filled using mean (no warnings now).\n"
     ]
    }
   ],
   "source": [
    "df['sales'] = pd.to_numeric(df['sales'], errors='coerce')\n",
    "df['quantity_ordered'] = pd.to_numeric(df['quantity_ordered'], errors='coerce')\n",
    "\n",
    "df['sales'] = df['sales'].fillna(df['sales'].mean())\n",
    "df['quantity_ordered'] = df['quantity_ordered'].fillna(df['quantity_ordered'].mean())\n",
    "\n",
    "print(\"\\n✅ [Level 5] Missing numeric values filled using mean (no warnings now).\")\n"
   ]
  },
  {
   "cell_type": "code",
   "execution_count": 133,
   "id": "ed1f2762-3bdb-40d5-be2f-3659f3b878c4",
   "metadata": {},
   "outputs": [
    {
     "data": {
      "text/html": [
       "<div>\n",
       "<style scoped>\n",
       "    .dataframe tbody tr th:only-of-type {\n",
       "        vertical-align: middle;\n",
       "    }\n",
       "\n",
       "    .dataframe tbody tr th {\n",
       "        vertical-align: top;\n",
       "    }\n",
       "\n",
       "    .dataframe thead th {\n",
       "        text-align: right;\n",
       "    }\n",
       "</style>\n",
       "<table border=\"1\" class=\"dataframe\">\n",
       "  <thead>\n",
       "    <tr style=\"text-align: right;\">\n",
       "      <th></th>\n",
       "      <th>sales</th>\n",
       "      <th>quantity_ordered</th>\n",
       "    </tr>\n",
       "  </thead>\n",
       "  <tbody>\n",
       "    <tr>\n",
       "      <th>0</th>\n",
       "      <td>1000.000000</td>\n",
       "      <td>2.000</td>\n",
       "    </tr>\n",
       "    <tr>\n",
       "      <th>1</th>\n",
       "      <td>850.000000</td>\n",
       "      <td>3.000</td>\n",
       "    </tr>\n",
       "    <tr>\n",
       "      <th>2</th>\n",
       "      <td>592.857143</td>\n",
       "      <td>1.000</td>\n",
       "    </tr>\n",
       "    <tr>\n",
       "      <th>3</th>\n",
       "      <td>550.000000</td>\n",
       "      <td>1.000</td>\n",
       "    </tr>\n",
       "    <tr>\n",
       "      <th>4</th>\n",
       "      <td>900.000000</td>\n",
       "      <td>4.000</td>\n",
       "    </tr>\n",
       "    <tr>\n",
       "      <th>5</th>\n",
       "      <td>592.857143</td>\n",
       "      <td>3.000</td>\n",
       "    </tr>\n",
       "    <tr>\n",
       "      <th>6</th>\n",
       "      <td>300.000000</td>\n",
       "      <td>2.125</td>\n",
       "    </tr>\n",
       "    <tr>\n",
       "      <th>7</th>\n",
       "      <td>100.000000</td>\n",
       "      <td>2.000</td>\n",
       "    </tr>\n",
       "    <tr>\n",
       "      <th>8</th>\n",
       "      <td>592.857143</td>\n",
       "      <td>1.000</td>\n",
       "    </tr>\n",
       "    <tr>\n",
       "      <th>9</th>\n",
       "      <td>450.000000</td>\n",
       "      <td>2.125</td>\n",
       "    </tr>\n",
       "  </tbody>\n",
       "</table>\n",
       "</div>"
      ],
      "text/plain": [
       "         sales  quantity_ordered\n",
       "0  1000.000000             2.000\n",
       "1   850.000000             3.000\n",
       "2   592.857143             1.000\n",
       "3   550.000000             1.000\n",
       "4   900.000000             4.000\n",
       "5   592.857143             3.000\n",
       "6   300.000000             2.125\n",
       "7   100.000000             2.000\n",
       "8   592.857143             1.000\n",
       "9   450.000000             2.125"
      ]
     },
     "execution_count": 133,
     "metadata": {},
     "output_type": "execute_result"
    }
   ],
   "source": [
    "df[['sales','quantity_ordered']]"
   ]
  },
  {
   "cell_type": "markdown",
   "id": "fea8010b-5b70-4d0a-96cd-1252ce212398",
   "metadata": {},
   "source": [
    "## 6. Level 6: Drop irrelevant column"
   ]
  },
  {
   "cell_type": "code",
   "execution_count": null,
   "id": "d4263d8d-a3a2-4adf-94e1-638f7566ce98",
   "metadata": {},
   "outputs": [],
   "source": []
  },
  {
   "cell_type": "code",
   "execution_count": 126,
   "id": "7dcec7f7-7ac8-4ca5-a268-b3c89d8101dd",
   "metadata": {},
   "outputs": [
    {
     "data": {
      "text/html": [
       "<div>\n",
       "<style scoped>\n",
       "    .dataframe tbody tr th:only-of-type {\n",
       "        vertical-align: middle;\n",
       "    }\n",
       "\n",
       "    .dataframe tbody tr th {\n",
       "        vertical-align: top;\n",
       "    }\n",
       "\n",
       "    .dataframe thead th {\n",
       "        text-align: right;\n",
       "    }\n",
       "</style>\n",
       "<table border=\"1\" class=\"dataframe\">\n",
       "  <thead>\n",
       "    <tr style=\"text-align: right;\">\n",
       "      <th></th>\n",
       "      <th>customer_name</th>\n",
       "      <th>order_date</th>\n",
       "      <th>sales</th>\n",
       "      <th>quantity_ordered</th>\n",
       "      <th>returned?</th>\n",
       "    </tr>\n",
       "  </thead>\n",
       "  <tbody>\n",
       "    <tr>\n",
       "      <th>0</th>\n",
       "      <td>Alice</td>\n",
       "      <td>2023-01-15</td>\n",
       "      <td>1000.0</td>\n",
       "      <td>2.0</td>\n",
       "      <td>Yes</td>\n",
       "    </tr>\n",
       "    <tr>\n",
       "      <th>1</th>\n",
       "      <td>Bob</td>\n",
       "      <td>NaT</td>\n",
       "      <td>850.0</td>\n",
       "      <td>3.0</td>\n",
       "      <td>no</td>\n",
       "    </tr>\n",
       "  </tbody>\n",
       "</table>\n",
       "</div>"
      ],
      "text/plain": [
       "  customer_name order_date   sales  quantity_ordered returned?\n",
       "0         Alice 2023-01-15  1000.0               2.0       Yes\n",
       "1           Bob        NaT   850.0               3.0        no"
      ]
     },
     "execution_count": 126,
     "metadata": {},
     "output_type": "execute_result"
    }
   ],
   "source": [
    "df = df.drop(columns=['extra_column'])\n",
    "df.head(2)"
   ]
  },
  {
   "cell_type": "code",
   "execution_count": 127,
   "id": "962dac05-7f72-4aab-a926-1a81c4e938c6",
   "metadata": {},
   "outputs": [
    {
     "name": "stdout",
     "output_type": "stream",
     "text": [
      "\n",
      "✅ [Level 6] Dropped irrelevant column: 'extra_column'\n"
     ]
    }
   ],
   "source": [
    "print(\"\\n✅ [Level 6] Dropped irrelevant column: 'extra_column'\")"
   ]
  },
  {
   "cell_type": "markdown",
   "id": "bcdf3598-6a0d-40a8-81bc-c39e4348b7de",
   "metadata": {},
   "source": [
    "## 7.Level 7: Fix inconsistent categories (like \"Yes\", \"yes\", \"Y\", \"n\", etc.)"
   ]
  },
  {
   "cell_type": "code",
   "execution_count": 130,
   "id": "7d37d925-52f9-47cd-9efc-9f47cc8aaad6",
   "metadata": {},
   "outputs": [
    {
     "name": "stdout",
     "output_type": "stream",
     "text": [
      "\n",
      "✅ [Level 7] Standardized 'returned?' column values:\n",
      "returned?\n",
      "Yes    6\n",
      "No     4\n",
      "Name: count, dtype: int64\n"
     ]
    }
   ],
   "source": [
    "\n",
    "df['returned?'] = df['returned?'].str.lower().map({\n",
    "    'yes': 'Yes', 'y': 'Yes',\n",
    "    'no': 'No', 'n': 'No'\n",
    "})\n",
    "\n",
    "print(\"\\n✅ [Level 7] Standardized 'returned?' column values:\")\n",
    "print(df['returned?'].value_counts())\n"
   ]
  },
  {
   "cell_type": "markdown",
   "id": "50761d25-a5bb-4d83-ba7f-b89950358eac",
   "metadata": {},
   "source": [
    "## 8.Create a new column \"high_value_order\" if sales > 500"
   ]
  },
  {
   "cell_type": "code",
   "execution_count": 132,
   "id": "f54c428c-5dba-408e-8331-801e7570690a",
   "metadata": {},
   "outputs": [
    {
     "name": "stdout",
     "output_type": "stream",
     "text": [
      "\n",
      "✅ [Level 8] Created 'high_value_order' column:\n",
      "         sales  high_value_order\n",
      "0  1000.000000              True\n",
      "1   850.000000              True\n",
      "2   592.857143              True\n",
      "3   550.000000              True\n",
      "4   900.000000              True\n"
     ]
    }
   ],
   "source": [
    "df['high_value_order'] = df['sales'] > 500\n",
    "print(\"\\n✅ [Level 8] Created 'high_value_order' column:\")\n",
    "print(df[['sales', 'high_value_order']].head())"
   ]
  },
  {
   "cell_type": "markdown",
   "id": "70a181a1-67c6-4428-b758-3b902508acb1",
   "metadata": {},
   "source": [
    "## 9.Level 9: Sort data by order date (newest first)"
   ]
  },
  {
   "cell_type": "code",
   "execution_count": 135,
   "id": "df0a112b-68f1-4b36-85c4-f83130624ba9",
   "metadata": {},
   "outputs": [
    {
     "name": "stdout",
     "output_type": "stream",
     "text": [
      "\n",
      "✅ [Level 9] Sorted data by latest order date.\n"
     ]
    }
   ],
   "source": [
    "df = df.sort_values(by='order_date', ascending=False)\n",
    "print(\"\\n✅ [Level 9] Sorted data by latest order date.\")"
   ]
  },
  {
   "cell_type": "code",
   "execution_count": 136,
   "id": "3698416c-2cfb-4178-ac6d-e3e42128add6",
   "metadata": {},
   "outputs": [
    {
     "data": {
      "text/plain": [
       "0   2023-01-15\n",
       "1          NaT\n",
       "2          NaT\n",
       "3          NaT\n",
       "4          NaT\n",
       "5          NaT\n",
       "6          NaT\n",
       "7          NaT\n",
       "8          NaT\n",
       "9          NaT\n",
       "Name: order_date, dtype: datetime64[ns]"
      ]
     },
     "execution_count": 136,
     "metadata": {},
     "output_type": "execute_result"
    }
   ],
   "source": [
    "df['order_date']"
   ]
  },
  {
   "cell_type": "markdown",
   "id": "db08b953-be5a-4b36-ab87-34a2f9fb3349",
   "metadata": {},
   "source": [
    "## 10.Level 10: Save the cleaned dataset to a new CSV"
   ]
  },
  {
   "cell_type": "code",
   "execution_count": 138,
   "id": "194a1a47-2105-44ff-99b6-19fe437f858b",
   "metadata": {},
   "outputs": [
    {
     "name": "stdout",
     "output_type": "stream",
     "text": [
      "\n",
      "✅ [Level 10] Cleaned dataset saved as 'cleaned_data_wrangling_project.csv'\n"
     ]
    }
   ],
   "source": [
    "df.to_csv(\"cleaned_data_wrangling_project.csv\", index=False)\n",
    "print(\"\\n✅ [Level 10] Cleaned dataset saved as 'cleaned_data_wrangling_project.csv'\")\n"
   ]
  }
 ],
 "metadata": {
  "kernelspec": {
   "display_name": "Python 3 (ipykernel)",
   "language": "python",
   "name": "python3"
  },
  "language_info": {
   "codemirror_mode": {
    "name": "ipython",
    "version": 3
   },
   "file_extension": ".py",
   "mimetype": "text/x-python",
   "name": "python",
   "nbconvert_exporter": "python",
   "pygments_lexer": "ipython3",
   "version": "3.12.3"
  }
 },
 "nbformat": 4,
 "nbformat_minor": 5
}
