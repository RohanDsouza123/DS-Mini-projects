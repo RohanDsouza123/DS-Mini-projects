{
 "cells": [
  {
   "cell_type": "markdown",
   "id": "06bc7167-97e6-4c7e-bb28-355e8f45152d",
   "metadata": {},
   "source": [
    "# <u>**Mini Project 3**</u>"
   ]
  },
  {
   "cell_type": "markdown",
   "id": "63da9912-f4ff-4b83-9a7e-5d68b18096d6",
   "metadata": {},
   "source": [
    "##  Data Transformation & Feature Engineering"
   ]
  },
  {
   "cell_type": "code",
   "execution_count": 1,
   "id": "142c42dd-3cc5-445a-8468-e612f09ab333",
   "metadata": {},
   "outputs": [],
   "source": [
    "import pandas as pd"
   ]
  },
  {
   "cell_type": "code",
   "execution_count": 2,
   "id": "5cdb0e41-81b5-4346-807f-5bb98b5e0018",
   "metadata": {},
   "outputs": [
    {
     "data": {
      "text/html": [
       "<div>\n",
       "<style scoped>\n",
       "    .dataframe tbody tr th:only-of-type {\n",
       "        vertical-align: middle;\n",
       "    }\n",
       "\n",
       "    .dataframe tbody tr th {\n",
       "        vertical-align: top;\n",
       "    }\n",
       "\n",
       "    .dataframe thead th {\n",
       "        text-align: right;\n",
       "    }\n",
       "</style>\n",
       "<table border=\"1\" class=\"dataframe\">\n",
       "  <thead>\n",
       "    <tr style=\"text-align: right;\">\n",
       "      <th></th>\n",
       "      <th>customer_name</th>\n",
       "      <th>order_date</th>\n",
       "      <th>sales</th>\n",
       "      <th>quantity_ordered</th>\n",
       "      <th>returned?</th>\n",
       "      <th>high_value_order</th>\n",
       "    </tr>\n",
       "  </thead>\n",
       "  <tbody>\n",
       "    <tr>\n",
       "      <th>0</th>\n",
       "      <td>Alice</td>\n",
       "      <td>2023-01-15</td>\n",
       "      <td>1000.000000</td>\n",
       "      <td>2.0</td>\n",
       "      <td>Yes</td>\n",
       "      <td>True</td>\n",
       "    </tr>\n",
       "    <tr>\n",
       "      <th>1</th>\n",
       "      <td>Bob</td>\n",
       "      <td>NaN</td>\n",
       "      <td>850.000000</td>\n",
       "      <td>3.0</td>\n",
       "      <td>No</td>\n",
       "      <td>True</td>\n",
       "    </tr>\n",
       "    <tr>\n",
       "      <th>2</th>\n",
       "      <td>alice</td>\n",
       "      <td>NaN</td>\n",
       "      <td>592.857143</td>\n",
       "      <td>1.0</td>\n",
       "      <td>Yes</td>\n",
       "      <td>True</td>\n",
       "    </tr>\n",
       "    <tr>\n",
       "      <th>3</th>\n",
       "      <td>Charlie</td>\n",
       "      <td>NaN</td>\n",
       "      <td>550.000000</td>\n",
       "      <td>1.0</td>\n",
       "      <td>Yes</td>\n",
       "      <td>True</td>\n",
       "    </tr>\n",
       "    <tr>\n",
       "      <th>4</th>\n",
       "      <td>David</td>\n",
       "      <td>NaN</td>\n",
       "      <td>900.000000</td>\n",
       "      <td>4.0</td>\n",
       "      <td>No</td>\n",
       "      <td>True</td>\n",
       "    </tr>\n",
       "  </tbody>\n",
       "</table>\n",
       "</div>"
      ],
      "text/plain": [
       "  customer_name  order_date        sales  quantity_ordered returned?  \\\n",
       "0         Alice  2023-01-15  1000.000000               2.0       Yes   \n",
       "1           Bob         NaN   850.000000               3.0        No   \n",
       "2         alice         NaN   592.857143               1.0       Yes   \n",
       "3       Charlie         NaN   550.000000               1.0       Yes   \n",
       "4         David         NaN   900.000000               4.0        No   \n",
       "\n",
       "   high_value_order  \n",
       "0              True  \n",
       "1              True  \n",
       "2              True  \n",
       "3              True  \n",
       "4              True  "
      ]
     },
     "execution_count": 2,
     "metadata": {},
     "output_type": "execute_result"
    }
   ],
   "source": [
    "df = pd.read_csv(\"cleaned_data_wrangling_project.csv\")\n",
    "df.head()"
   ]
  },
  {
   "cell_type": "markdown",
   "id": "08708be1-b308-4a9b-be6f-b2d3d7336fed",
   "metadata": {},
   "source": [
    "### Level 1: Extract the Year and Month from the Order Date"
   ]
  },
  {
   "cell_type": "code",
   "execution_count": 3,
   "id": "52a027d2-c552-4e90-9afc-be70b0964ab0",
   "metadata": {},
   "outputs": [
    {
     "name": "stdout",
     "output_type": "stream",
     "text": [
      "\n",
      "[Level 1] Added 'year' and 'month' columns.\n",
      "  order_date    year    month\n",
      "0 2023-01-15  2023.0  January\n",
      "1        NaT     NaN      NaN\n",
      "2        NaT     NaN      NaN\n",
      "3        NaT     NaN      NaN\n",
      "4        NaT     NaN      NaN\n"
     ]
    }
   ],
   "source": [
    "df['order_date'] = pd.to_datetime(df['order_date'])\n",
    "df['year'] = df['order_date'].dt.year\n",
    "df['month'] = df['order_date'].dt.month_name()\n",
    "\n",
    "print(\"\\n[Level 1] Added 'year' and 'month' columns.\")\n",
    "print(df[['order_date', 'year', 'month']].head())"
   ]
  },
  {
   "cell_type": "markdown",
   "id": "61e1d2c3-aba5-4a19-a10e-20a4d75088d2",
   "metadata": {},
   "source": [
    "###  Level 2: Add a Column for Total Sales (Price × Quantity)"
   ]
  },
  {
   "cell_type": "code",
   "execution_count": 5,
   "id": "d3a4e7ed-f044-4f9c-ba03-3de2dee9145e",
   "metadata": {},
   "outputs": [
    {
     "name": "stdout",
     "output_type": "stream",
     "text": [
      "\n",
      "[Level 2] Added 'unit_price' column (sales ÷ quantity):\n"
     ]
    },
    {
     "data": {
      "text/html": [
       "<div>\n",
       "<style scoped>\n",
       "    .dataframe tbody tr th:only-of-type {\n",
       "        vertical-align: middle;\n",
       "    }\n",
       "\n",
       "    .dataframe tbody tr th {\n",
       "        vertical-align: top;\n",
       "    }\n",
       "\n",
       "    .dataframe thead th {\n",
       "        text-align: right;\n",
       "    }\n",
       "</style>\n",
       "<table border=\"1\" class=\"dataframe\">\n",
       "  <thead>\n",
       "    <tr style=\"text-align: right;\">\n",
       "      <th></th>\n",
       "      <th>sales</th>\n",
       "      <th>quantity_ordered</th>\n",
       "      <th>unit_price</th>\n",
       "    </tr>\n",
       "  </thead>\n",
       "  <tbody>\n",
       "    <tr>\n",
       "      <th>0</th>\n",
       "      <td>1000.000000</td>\n",
       "      <td>2.0</td>\n",
       "      <td>500.000000</td>\n",
       "    </tr>\n",
       "    <tr>\n",
       "      <th>1</th>\n",
       "      <td>850.000000</td>\n",
       "      <td>3.0</td>\n",
       "      <td>283.333333</td>\n",
       "    </tr>\n",
       "    <tr>\n",
       "      <th>2</th>\n",
       "      <td>592.857143</td>\n",
       "      <td>1.0</td>\n",
       "      <td>592.857143</td>\n",
       "    </tr>\n",
       "    <tr>\n",
       "      <th>3</th>\n",
       "      <td>550.000000</td>\n",
       "      <td>1.0</td>\n",
       "      <td>550.000000</td>\n",
       "    </tr>\n",
       "    <tr>\n",
       "      <th>4</th>\n",
       "      <td>900.000000</td>\n",
       "      <td>4.0</td>\n",
       "      <td>225.000000</td>\n",
       "    </tr>\n",
       "  </tbody>\n",
       "</table>\n",
       "</div>"
      ],
      "text/plain": [
       "         sales  quantity_ordered  unit_price\n",
       "0  1000.000000               2.0  500.000000\n",
       "1   850.000000               3.0  283.333333\n",
       "2   592.857143               1.0  592.857143\n",
       "3   550.000000               1.0  550.000000\n",
       "4   900.000000               4.0  225.000000"
      ]
     },
     "execution_count": 5,
     "metadata": {},
     "output_type": "execute_result"
    }
   ],
   "source": [
    "df['unit_price'] = df['sales']/df['quantity_ordered']\n",
    "print(\"\\n[Level 2] Added 'unit_price' column (sales ÷ quantity):\")\n",
    "df[['sales', 'quantity_ordered', 'unit_price']].head()"
   ]
  },
  {
   "cell_type": "markdown",
   "id": "379d898e-ae12-4140-ad50-94261eef925f",
   "metadata": {},
   "source": [
    "### Level 3: Label High vs. Low Quantity Orders"
   ]
  },
  {
   "cell_type": "code",
   "execution_count": 6,
   "id": "fdb29f4f-6f0a-49fa-adba-07f27a282043",
   "metadata": {},
   "outputs": [
    {
     "name": "stdout",
     "output_type": "stream",
     "text": [
      "\n",
      "[Level 3] Labeled quantity size:\n",
      "   quantity_ordered quantity_size\n",
      "0               2.0        Medium\n",
      "1               3.0        Medium\n",
      "2               1.0           Low\n",
      "3               1.0           Low\n",
      "4               4.0          High\n"
     ]
    }
   ],
   "source": [
    "df['quantity_size'] = pd.cut(df['quantity_ordered'],\n",
    "                              bins=[0, 1, 3, float('inf')],\n",
    "                              labels=['Low', 'Medium', 'High'])\n",
    "\n",
    "print(\"\\n[Level 3] Labeled quantity size:\")\n",
    "print(df[['quantity_ordered', 'quantity_size']].head())\n"
   ]
  },
  {
   "cell_type": "markdown",
   "id": "8809a00e-126a-4f2e-b6b8-a0aeb86ab0c1",
   "metadata": {},
   "source": [
    "### Level 4: Count How Many Orders Each Customer Placed"
   ]
  },
  {
   "cell_type": "code",
   "execution_count": 10,
   "id": "07312836-5098-4ac8-85d0-44b7a3e0a9f8",
   "metadata": {},
   "outputs": [
    {
     "name": "stdout",
     "output_type": "stream",
     "text": [
      "\n",
      "[Level 4] Orders per customer:\n",
      "customer_name\n",
      "Alice      1\n",
      "Bob        1\n",
      "alice      1\n",
      "Charlie    1\n",
      "David      1\n",
      "Eve        1\n",
      "Frank      1\n",
      "Grace      1\n",
      "Heidi      1\n",
      "Ivan       1\n",
      "Name: count, dtype: int64\n"
     ]
    }
   ],
   "source": [
    "customer_orders = df['customer_name'].value_counts()\n",
    "print(\"\\n[Level 4] Orders per customer:\")\n",
    "print(customer_orders)"
   ]
  },
  {
   "cell_type": "markdown",
   "id": "dd269381-d15f-4f20-818c-7e3499f20857",
   "metadata": {},
   "source": [
    "### Level 5: Encode 'Returned?' Column into Binary"
   ]
  },
  {
   "cell_type": "code",
   "execution_count": 12,
   "id": "1c9d0814-cc27-472b-baa7-cbc91cea6ed5",
   "metadata": {},
   "outputs": [
    {
     "name": "stdout",
     "output_type": "stream",
     "text": [
      "\n",
      "[Level 5] 'returned?' converted to binary 0/1:\n",
      "  returned?  returned_flag\n",
      "0       Yes              1\n",
      "1        No              0\n",
      "2       Yes              1\n",
      "3       Yes              1\n",
      "4        No              0\n"
     ]
    }
   ],
   "source": [
    "df['returned_flag'] = df['returned?'].map({'Yes':1,'No':0})\n",
    "print(\"\\n[Level 5] 'returned?' converted to binary 0/1:\")\n",
    "print(df[['returned?', 'returned_flag']].head())"
   ]
  },
  {
   "cell_type": "markdown",
   "id": "42c4eb41-1fa5-4383-b273-9fe4c08af80b",
   "metadata": {},
   "source": [
    "### Level 6: Flag Weekend vs. Weekday Orders"
   ]
  },
  {
   "cell_type": "code",
   "execution_count": 14,
   "id": "7c6db62a-53fc-487b-9e76-d70f819119b3",
   "metadata": {},
   "outputs": [
    {
     "name": "stdout",
     "output_type": "stream",
     "text": [
      "\n",
      "[Level 6] Added 'day_of_week' and 'is_weekend' flags:\n",
      "  order_date day_of_week  is_weekend\n",
      "0 2023-01-15      Sunday        True\n",
      "1        NaT         NaN       False\n",
      "2        NaT         NaN       False\n",
      "3        NaT         NaN       False\n",
      "4        NaT         NaN       False\n"
     ]
    }
   ],
   "source": [
    "df['day_of_week'] = df['order_date'].dt.day_name()\n",
    "df['is_weekend'] = df['day_of_week'].isin(['Saturday', 'Sunday'])\n",
    "\n",
    "print(\"\\n[Level 6] Added 'day_of_week' and 'is_weekend' flags:\")\n",
    "print(df[['order_date', 'day_of_week', 'is_weekend']].head())"
   ]
  },
  {
   "cell_type": "markdown",
   "id": "a243ab09-a3a0-402a-9299-4e71550a4e41",
   "metadata": {},
   "source": [
    "###  Level 7: Bin Sales Into Ranges (Low, Medium, High)"
   ]
  },
  {
   "cell_type": "code",
   "execution_count": 22,
   "id": "75db32e8-5b30-4b3a-b177-e06c11c90c4d",
   "metadata": {},
   "outputs": [],
   "source": [
    "df['sales_range'] = pd.cut(df['sales'],\n",
    "                           bins = [0,300,700,float('inf')], \n",
    "                           labels=['Low','Medium','High'])"
   ]
  },
  {
   "cell_type": "code",
   "execution_count": 23,
   "id": "633b6f8d-efc7-4088-be39-6f88e78a3aea",
   "metadata": {},
   "outputs": [
    {
     "name": "stdout",
     "output_type": "stream",
     "text": [
      "\n",
      "[Level 7] Sales categorized into Low/Medium/High:\n",
      "         sales sales_range\n",
      "0  1000.000000        High\n",
      "1   850.000000        High\n",
      "2   592.857143      Medium\n",
      "3   550.000000      Medium\n",
      "4   900.000000        High\n"
     ]
    }
   ],
   "source": [
    "print(\"\\n[Level 7] Sales categorized into Low/Medium/High:\")\n",
    "print(df[['sales', 'sales_range']].head())"
   ]
  },
  {
   "cell_type": "markdown",
   "id": "489d6356-3bbb-44bc-9b8d-0e8ffe8a25bb",
   "metadata": {},
   "source": [
    "### Level 8: Calculate Running Total of Sales (Cumulative)"
   ]
  },
  {
   "cell_type": "code",
   "execution_count": 25,
   "id": "5a4637e8-5e30-4044-93e8-2c8ebbf16d07",
   "metadata": {},
   "outputs": [
    {
     "name": "stdout",
     "output_type": "stream",
     "text": [
      "\n",
      "[Level 8] Cumulative sales added:\n",
      "  order_date        sales  cumulative_sales\n",
      "0 2023-01-15  1000.000000       1000.000000\n",
      "1        NaT   850.000000       1850.000000\n",
      "2        NaT   592.857143       2442.857143\n",
      "3        NaT   550.000000       2992.857143\n",
      "4        NaT   900.000000       3892.857143\n"
     ]
    }
   ],
   "source": [
    "df = df.sort_values(by='order_date')\n",
    "df['cumulative_sales'] = df['sales'].cumsum()\n",
    "\n",
    "print(\"\\n[Level 8] Cumulative sales added:\")\n",
    "print(df[['order_date', 'sales', 'cumulative_sales']].head())"
   ]
  },
  {
   "cell_type": "markdown",
   "id": "c597c557-e02f-4c91-8f54-e1fa64abdc5b",
   "metadata": {},
   "source": [
    "### Level 9: Create a Unique Order ID (if needed)"
   ]
  },
  {
   "cell_type": "code",
   "execution_count": 27,
   "id": "bdc97c16-84c1-49c0-84f9-085342f94bfc",
   "metadata": {},
   "outputs": [
    {
     "name": "stdout",
     "output_type": "stream",
     "text": [
      "\n",
      "[Level 9] Unique 'order_id' added:\n",
      "  order_id customer_name        sales\n",
      "0  ORD0001         Alice  1000.000000\n",
      "1  ORD0002           Bob   850.000000\n",
      "2  ORD0003         alice   592.857143\n",
      "3  ORD0004       Charlie   550.000000\n",
      "4  ORD0005         David   900.000000\n"
     ]
    }
   ],
   "source": [
    "df['order_id'] = ['ORD' + str(i).zfill(4) for i in range(1, len(df)+1)]\n",
    "\n",
    "print(\"\\n[Level 9] Unique 'order_id' added:\")\n",
    "print(df[['order_id', 'customer_name', 'sales']].head())"
   ]
  },
  {
   "cell_type": "markdown",
   "id": "1780591c-c854-4899-b46e-b6beda34757b",
   "metadata": {},
   "source": [
    " ### Level 10: Export Transformed Data"
   ]
  },
  {
   "cell_type": "code",
   "execution_count": 30,
   "id": "858e46c0-88f8-4f82-9689-11f17d4a8619",
   "metadata": {},
   "outputs": [
    {
     "name": "stdout",
     "output_type": "stream",
     "text": [
      "\n",
      "[Level 10] Transformed dataset saved as 'transformed_sales_data.csv'\n"
     ]
    }
   ],
   "source": [
    "df.to_csv(\"transformed_sales_data.csv\", index=False)\n",
    "print(\"\\n[Level 10] Transformed dataset saved as 'transformed_sales_data.csv'\")\n"
   ]
  },
  {
   "cell_type": "markdown",
   "id": "1aceba44-651b-4741-aacb-de2643dae624",
   "metadata": {},
   "source": [
    "___"
   ]
  }
 ],
 "metadata": {
  "kernelspec": {
   "display_name": "Python 3 (ipykernel)",
   "language": "python",
   "name": "python3"
  },
  "language_info": {
   "codemirror_mode": {
    "name": "ipython",
    "version": 3
   },
   "file_extension": ".py",
   "mimetype": "text/x-python",
   "name": "python",
   "nbconvert_exporter": "python",
   "pygments_lexer": "ipython3",
   "version": "3.12.3"
  }
 },
 "nbformat": 4,
 "nbformat_minor": 5
}
